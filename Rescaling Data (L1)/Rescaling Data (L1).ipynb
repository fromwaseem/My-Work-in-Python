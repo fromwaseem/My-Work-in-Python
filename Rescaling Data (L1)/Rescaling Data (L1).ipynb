{
 "cells": [
  {
   "cell_type": "code",
   "execution_count": 2,
   "metadata": {},
   "outputs": [
    {
     "data": {
      "text/plain": [
       "array([[0.248, 0.397, 0.   , 0.068, 0.107, 0.141, 0.099, 0.568],\n",
       "       [0.283, 0.521, 0.   , 0.116, 0.144, 0.338, 0.216, 0.494],\n",
       "       [0.283, 0.438, 0.04 , 0.096, 0.134, 0.197, 0.17 , 0.509],\n",
       "       [0.584, 0.11 , 0.56 , 0.068, 0.105, 0.225, 0.191, 0.582],\n",
       "       [0.248, 0.397, 0.   , 0.068, 0.107, 0.141, 0.099, 0.568]])"
      ]
     },
     "execution_count": 2,
     "metadata": {},
     "output_type": "execute_result"
    }
   ],
   "source": [
    ">>> import pandas, scipy, numpy\n",
    ">>> from sklearn.preprocessing import MinMaxScaler\n",
    ">>> df=pandas.read_csv( 'C:/Users/Waseem/Desktop/machine learning/dataset/winequality-red.csv ',sep=';')\n",
    ">>> array=df.values\n",
    ">>> #Separating data into input and output components\n",
    ">>> x=array[:,0:8]\n",
    ">>> y=array[:,8]\n",
    ">>> scaler=MinMaxScaler(feature_range=(0,1))\n",
    ">>> rescaledX=scaler.fit_transform(x)\n",
    ">>> numpy.set_printoptions(precision=3) #Setting precision for the output\n",
    ">>> rescaledX[0:5,:]"
   ]
  },
  {
   "cell_type": "code",
   "execution_count": 3,
   "metadata": {},
   "outputs": [
    {
     "ename": "SyntaxError",
     "evalue": "invalid syntax (<ipython-input-3-5c90a11c508f>, line 1)",
     "output_type": "error",
     "traceback": [
      "\u001b[1;36m  File \u001b[1;32m\"<ipython-input-3-5c90a11c508f>\"\u001b[1;36m, line \u001b[1;32m1\u001b[0m\n\u001b[1;33m    >>>from sklearn.preprocessing import StandardScaler\u001b[0m\n\u001b[1;37m     ^\u001b[0m\n\u001b[1;31mSyntaxError\u001b[0m\u001b[1;31m:\u001b[0m invalid syntax\n"
     ]
    }
   ],
   "source": [
    ">>>from sklearn.preprocessing import StandardScaler\n",
    ">>> scaler=StandardScaler().fit(x)\n",
    ">>> rescaledX=scaler.transform(x)\n",
    ">>> rescaledX[0:5,:]\n"
   ]
  },
  {
   "cell_type": "code",
   "execution_count": null,
   "metadata": {},
   "outputs": [],
   "source": []
  }
 ],
 "metadata": {
  "kernelspec": {
   "display_name": "Python 3",
   "language": "python",
   "name": "python3"
  },
  "language_info": {
   "codemirror_mode": {
    "name": "ipython",
    "version": 3
   },
   "file_extension": ".py",
   "mimetype": "text/x-python",
   "name": "python",
   "nbconvert_exporter": "python",
   "pygments_lexer": "ipython3",
   "version": "3.7.3"
  }
 },
 "nbformat": 4,
 "nbformat_minor": 2
}
