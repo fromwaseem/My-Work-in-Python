{
 "cells": [
  {
   "cell_type": "code",
   "execution_count": 1,
   "metadata": {
    "id": "fERcWHPBiCbB"
   },
   "outputs": [],
   "source": [
    "import pandas\n",
    "import string\n",
    "import nltk\n",
    "import keras\n",
    "import sklearn\n",
    "import time\n",
    "from keras.models import Sequential\n",
    "from keras.layers import Dense\n",
    "import matplotlib.pyplot as plt\n",
    "import numpy\n",
    "import tensorflow as tf\n",
    "import numpy as np\n",
    "from time import time\n",
    "from nltk.corpus import stopwords\n",
    "from pandas import read_csv\n",
    "from pandas.plotting import scatter_matrix\n",
    "from matplotlib import pyplot\n",
    "from keras.models import Sequential\n",
    "from keras.layers import Dense\n",
    "from keras.wrappers.scikit_learn import KerasClassifier\n",
    "from sklearn.model_selection import cross_val_score\n",
    "from sklearn.preprocessing import LabelEncoder\n",
    "from sklearn.preprocessing import OneHotEncoder\n",
    "from sklearn.model_selection import StratifiedKFold\n",
    "from sklearn.preprocessing import StandardScaler\n",
    "from sklearn.pipeline import Pipeline\n",
    "from keras.callbacks import TensorBoard\n",
    "from keras.preprocessing.text import Tokenizer\n",
    "from sklearn.feature_extraction.text import CountVectorizer\n",
    "from sklearn.model_selection import train_test_split\n",
    "from keras.models import Sequential\n",
    "from keras.layers import Dense , Activation , Dropout\n",
    "from sklearn.linear_model import LogisticRegression\n",
    "from sklearn.preprocessing import LabelBinarizer\n",
    "from sklearn.preprocessing import MultiLabelBinarizer\n",
    "import keras.preprocessing.text\n",
    "\n",
    "from tensorflow.keras.utils import to_categorical"
   ]
  },
  {
   "cell_type": "code",
   "execution_count": 3,
   "metadata": {
    "colab": {
     "base_uri": "https://localhost:8080/"
    },
    "id": "xuNNPu1oiIoL",
    "outputId": "be151c3b-89f3-4bd6-ed3f-5810ce10bb36"
   },
   "outputs": [
    {
     "name": "stdout",
     "output_type": "stream",
     "text": [
      "     page                                            comment  scale\n",
      "0  Page_1  tento areal je v katastrofalnom stave aspon 10...     -2\n",
      "1  Page_1  skoda len ze ponukaju aj stale tie iste a rovn...     -2\n",
      "2  Page_1  Mali by ste dat tabulky \"VSTUP DO BRATISLAVY N...     -2\n",
      "3  Page_1  Za to, ako dlho sa to stavia, tam mala byt pos...     -2\n",
      "4  Page_1  A kde je preboha nejaká zeleň ?????? 😞😞😕☹️☹️☹️...     -2\n"
     ]
    }
   ],
   "source": [
    "# load dataset\n",
    "dataframe = pandas.read_csv(\"dataset.csv\", header=0)\n",
    "dataframe.drop_duplicates(inplace = True)\n",
    "data= dataframe\n",
    "print(dataframe.head())\n"
   ]
  },
  {
   "cell_type": "code",
   "execution_count": 5,
   "metadata": {},
   "outputs": [
    {
     "name": "stdout",
     "output_type": "stream",
     "text": [
      "                                             comment  scale\n",
      "0  tento areal je v katastrofalnom stave aspon 10...     -2\n",
      "1  skoda len ze ponukaju aj stale tie iste a rovn...     -2\n",
      "2  Mali by ste dat tabulky \"VSTUP DO BRATISLAVY N...     -2\n",
      "3  Za to, ako dlho sa to stavia, tam mala byt pos...     -2\n",
      "4  A kde je preboha nejaká zeleň ?????? 😞😞😕☹️☹️☹️...     -2\n"
     ]
    }
   ],
   "source": [
    "print(data.head())"
   ]
  },
  {
   "cell_type": "code",
   "execution_count": 4,
   "metadata": {},
   "outputs": [],
   "source": [
    "data.drop('page', inplace=True, axis=1)"
   ]
  },
  {
   "cell_type": "code",
   "execution_count": 31,
   "metadata": {},
   "outputs": [],
   "source": [
    "#Create scale column using Score\n",
    "data=data.replace({'scale' : { -2:0,-1:1,0:2,1:3,2:4 }})"
   ]
  },
  {
   "cell_type": "code",
   "execution_count": 32,
   "metadata": {
    "colab": {
     "base_uri": "https://localhost:8080/"
    },
    "id": "7Hdtqqr8iJUS",
    "outputId": "c6038603-8c63-488b-8dfe-61fb2eaf48f7"
   },
   "outputs": [
    {
     "name": "stdout",
     "output_type": "stream",
     "text": [
      "1587\n",
      "1269\n"
     ]
    }
   ],
   "source": [
    "train_size = int(len(data) * .8)\n",
    "\n",
    "print(int(len(data['comment'])))\n",
    "print(train_size)"
   ]
  },
  {
   "cell_type": "code",
   "execution_count": 33,
   "metadata": {
    "id": "OQIVT349iJY7"
   },
   "outputs": [],
   "source": [
    "texts= data['comment']\n",
    "tags = data['scale']\n",
    "\n",
    "\n",
    "train_posts = data['comment'][:train_size]\n",
    "train_tags = data['scale'][:train_size]\n",
    "\n",
    "\n",
    "\n",
    "test_posts = data['comment'][train_size:]\n",
    "test_tags =  data['scale'][train_size:]"
   ]
  },
  {
   "cell_type": "code",
   "execution_count": 34,
   "metadata": {
    "id": "dzZGt7hQiJcT"
   },
   "outputs": [],
   "source": [
    "tokenizer = Tokenizer(num_words=None,lower=False)\n",
    "tokenizer.fit_on_texts(texts)\n",
    "\n",
    "x_train = tokenizer.texts_to_matrix(train_posts, mode='tfidf')\n",
    "x_test = tokenizer.texts_to_matrix(test_posts, mode='tfidf')\n"
   ]
  },
  {
   "cell_type": "code",
   "execution_count": 35,
   "metadata": {},
   "outputs": [
    {
     "data": {
      "text/plain": [
       "(1269, 11109)"
      ]
     },
     "execution_count": 35,
     "metadata": {},
     "output_type": "execute_result"
    }
   ],
   "source": [
    "x_train.shape"
   ]
  },
  {
   "cell_type": "code",
   "execution_count": 36,
   "metadata": {},
   "outputs": [
    {
     "data": {
      "text/plain": [
       "(318, 11109)"
      ]
     },
     "execution_count": 36,
     "metadata": {},
     "output_type": "execute_result"
    }
   ],
   "source": [
    "x_test.shape"
   ]
  },
  {
   "cell_type": "code",
   "execution_count": 37,
   "metadata": {
    "colab": {
     "base_uri": "https://localhost:8080/"
    },
    "id": "Znxc6crCiJe8",
    "outputId": "8e01d50a-fe2b-4d1c-8646-496f6b62e158"
   },
   "outputs": [
    {
     "name": "stdout",
     "output_type": "stream",
     "text": [
      "5\n"
     ]
    }
   ],
   "source": [
    "encoder = LabelEncoder()\n",
    "encoder.fit(tags)\n",
    "tagst=encoder.fit_transform(tags)\n",
    "\n",
    "num_classes = int((len(set(tagst))))\n",
    "print((len(set(tagst))))\n",
    "\n",
    "y_train = encoder.fit_transform(train_tags)\n",
    "y_test = encoder.fit_transform(test_tags)\n",
    "\n"
   ]
  },
  {
   "cell_type": "code",
   "execution_count": null,
   "metadata": {},
   "outputs": [],
   "source": []
  },
  {
   "cell_type": "code",
   "execution_count": 38,
   "metadata": {},
   "outputs": [
    {
     "data": {
      "text/plain": [
       "5"
      ]
     },
     "execution_count": 38,
     "metadata": {},
     "output_type": "execute_result"
    }
   ],
   "source": [
    "num_classes"
   ]
  },
  {
   "cell_type": "code",
   "execution_count": 39,
   "metadata": {
    "id": "nI5uRIy3iJhz"
   },
   "outputs": [],
   "source": [
    "y_train= to_categorical(y_train,num_classes)\n",
    "y_test = to_categorical(y_test, num_classes)\n",
    "\n",
    "\n",
    "num_labels = int(len(y_train.shape))\n",
    "vocab_size = len(tokenizer.word_index) + 1\n",
    "\n",
    "max_words=vocab_size\n"
   ]
  },
  {
   "cell_type": "code",
   "execution_count": 40,
   "metadata": {
    "id": "VrUaeFiziJlL"
   },
   "outputs": [],
   "source": [
    "import keras.backend as K\n",
    "def f1_metric(y_true, y_pred):\n",
    "    true_positives = K.sum(K.round(K.clip(y_true * y_pred, 0, 1)))\n",
    "    possible_positives = K.sum(K.round(K.clip(y_true, 0, 1)))\n",
    "    predicted_positives = K.sum(K.round(K.clip(y_pred, 0, 1)))\n",
    "    precision = true_positives / (predicted_positives + K.epsilon())\n",
    "    recall = true_positives / (possible_positives + K.epsilon())\n",
    "    f1_val = 2*(precision*recall)/(precision+recall+K.epsilon())\n",
    "    return f1_val\n",
    "\n",
    "from keras.metrics import Precision , Recall , Accuracy , TruePositives , TrueNegatives , FalsePositives , FalseNegatives\n"
   ]
  },
  {
   "cell_type": "code",
   "execution_count": 41,
   "metadata": {
    "id": "KT7RswjSjUj1"
   },
   "outputs": [],
   "source": [
    "# Build the model\n",
    "model = Sequential()\n",
    "model.add(Dense(1024, input_shape=(max_words,)))\n",
    "model.add(Activation('relu'))\n",
    "model.add(Dropout(0.5))\n",
    "model.add(Dense(num_classes))\n",
    "model.add(Activation('sigmoid'))"
   ]
  },
  {
   "cell_type": "code",
   "execution_count": 42,
   "metadata": {
    "id": "hfNiv5LCjUnM"
   },
   "outputs": [],
   "source": [
    "model.compile(loss='categorical_crossentropy',\n",
    "              optimizer='adam',\n",
    "              metrics=['categorical_accuracy','Recall','Precision', f1_metric,'TruePositives','TrueNegatives','FalsePositives','FalseNegatives'])\n"
   ]
  },
  {
   "cell_type": "code",
   "execution_count": 43,
   "metadata": {
    "colab": {
     "base_uri": "https://localhost:8080/"
    },
    "id": "D-3RzayTjUss",
    "outputId": "ab3952da-e6a0-48ed-c06e-0e0942a54d42"
   },
   "outputs": [
    {
     "name": "stdout",
     "output_type": "stream",
     "text": [
      "Epoch 1/50\n",
      "12/12 [==============================] - 2s 90ms/step - loss: 1.4486 - categorical_accuracy: 0.3406 - recall: 0.7496 - precision: 0.2949 - f1_metric: 0.4250 - true_positives: 856.0000 - true_negatives: 2521.0000 - false_positives: 2047.0000 - false_negatives: 286.0000 - val_loss: 2.5748 - val_categorical_accuracy: 0.0000e+00 - val_recall: 0.0079 - val_precision: 0.0027 - val_f1_metric: 0.0025 - val_true_positives: 1.0000 - val_true_negatives: 136.0000 - val_false_positives: 372.0000 - val_false_negatives: 126.0000\n",
      "Epoch 2/50\n",
      "12/12 [==============================] - 0s 41ms/step - loss: 0.4979 - categorical_accuracy: 0.9168 - recall: 0.9877 - precision: 0.3806 - f1_metric: 0.5509 - true_positives: 1128.0000 - true_negatives: 2732.0000 - false_positives: 1836.0000 - false_negatives: 14.0000 - val_loss: 2.3771 - val_categorical_accuracy: 0.0236 - val_recall: 0.3071 - val_precision: 0.1021 - val_f1_metric: 0.1768 - val_true_positives: 39.0000 - val_true_negatives: 165.0000 - val_false_positives: 343.0000 - val_false_negatives: 88.0000\n",
      "Epoch 3/50\n",
      "12/12 [==============================] - 0s 39ms/step - loss: 0.2159 - categorical_accuracy: 0.9904 - recall: 0.9991 - precision: 0.4707 - f1_metric: 0.6443 - true_positives: 1141.0000 - true_negatives: 3285.0000 - false_positives: 1283.0000 - false_negatives: 1.0000 - val_loss: 2.3494 - val_categorical_accuracy: 0.0394 - val_recall: 0.5039 - val_precision: 0.1658 - val_f1_metric: 0.2815 - val_true_positives: 64.0000 - val_true_negatives: 186.0000 - val_false_positives: 322.0000 - val_false_negatives: 63.0000\n",
      "Epoch 4/50\n",
      "12/12 [==============================] - 1s 42ms/step - loss: 0.1103 - categorical_accuracy: 0.9974 - recall: 0.9991 - precision: 0.5387 - f1_metric: 0.7038 - true_positives: 1141.0000 - true_negatives: 3591.0000 - false_positives: 977.0000 - false_negatives: 1.0000 - val_loss: 2.5116 - val_categorical_accuracy: 0.0551 - val_recall: 0.4882 - val_precision: 0.1623 - val_f1_metric: 0.2746 - val_true_positives: 62.0000 - val_true_negatives: 188.0000 - val_false_positives: 320.0000 - val_false_negatives: 65.0000\n",
      "Epoch 5/50\n",
      "12/12 [==============================] - 0s 40ms/step - loss: 0.0650 - categorical_accuracy: 0.9982 - recall: 0.9991 - precision: 0.6037 - f1_metric: 0.7562 - true_positives: 1141.0000 - true_negatives: 3819.0000 - false_positives: 749.0000 - false_negatives: 1.0000 - val_loss: 2.6427 - val_categorical_accuracy: 0.0551 - val_recall: 0.4646 - val_precision: 0.1569 - val_f1_metric: 0.2687 - val_true_positives: 59.0000 - val_true_negatives: 191.0000 - val_false_positives: 317.0000 - val_false_negatives: 68.0000\n",
      "Epoch 6/50\n",
      "12/12 [==============================] - 0s 42ms/step - loss: 0.0415 - categorical_accuracy: 0.9982 - recall: 1.0000 - precision: 0.6745 - f1_metric: 0.8052 - true_positives: 1142.0000 - true_negatives: 4017.0000 - false_positives: 551.0000 - false_negatives: 0.0000e+00 - val_loss: 2.7527 - val_categorical_accuracy: 0.0630 - val_recall: 0.4567 - val_precision: 0.1551 - val_f1_metric: 0.2667 - val_true_positives: 58.0000 - val_true_negatives: 192.0000 - val_false_positives: 316.0000 - val_false_negatives: 69.0000\n",
      "Epoch 7/50\n",
      "12/12 [==============================] - 0s 39ms/step - loss: 0.0300 - categorical_accuracy: 0.9991 - recall: 0.9991 - precision: 0.7181 - f1_metric: 0.8349 - true_positives: 1141.0000 - true_negatives: 4120.0000 - false_positives: 448.0000 - false_negatives: 1.0000 - val_loss: 2.8054 - val_categorical_accuracy: 0.0630 - val_recall: 0.4724 - val_precision: 0.1604 - val_f1_metric: 0.2731 - val_true_positives: 60.0000 - val_true_negatives: 194.0000 - val_false_positives: 314.0000 - val_false_negatives: 67.0000\n",
      "Epoch 8/50\n",
      "12/12 [==============================] - 0s 41ms/step - loss: 0.0218 - categorical_accuracy: 0.9991 - recall: 1.0000 - precision: 0.7274 - f1_metric: 0.8429 - true_positives: 1142.0000 - true_negatives: 4140.0000 - false_positives: 428.0000 - false_negatives: 0.0000e+00 - val_loss: 2.8579 - val_categorical_accuracy: 0.0630 - val_recall: 0.4646 - val_precision: 0.1586 - val_f1_metric: 0.2711 - val_true_positives: 59.0000 - val_true_negatives: 195.0000 - val_false_positives: 313.0000 - val_false_negatives: 68.0000\n",
      "Epoch 9/50\n",
      "12/12 [==============================] - 0s 40ms/step - loss: 0.0176 - categorical_accuracy: 0.9991 - recall: 0.9991 - precision: 0.7607 - f1_metric: 0.8664 - true_positives: 1141.0000 - true_negatives: 4209.0000 - false_positives: 359.0000 - false_negatives: 1.0000 - val_loss: 2.8984 - val_categorical_accuracy: 0.0630 - val_recall: 0.4646 - val_precision: 0.1590 - val_f1_metric: 0.2714 - val_true_positives: 59.0000 - val_true_negatives: 196.0000 - val_false_positives: 312.0000 - val_false_negatives: 68.0000\n",
      "Epoch 10/50\n",
      "12/12 [==============================] - 1s 42ms/step - loss: 0.0143 - categorical_accuracy: 0.9991 - recall: 0.9991 - precision: 0.7668 - f1_metric: 0.8669 - true_positives: 1141.0000 - true_negatives: 4221.0000 - false_positives: 347.0000 - false_negatives: 1.0000 - val_loss: 2.9433 - val_categorical_accuracy: 0.0630 - val_recall: 0.4646 - val_precision: 0.1599 - val_f1_metric: 0.2719 - val_true_positives: 59.0000 - val_true_negatives: 198.0000 - val_false_positives: 310.0000 - val_false_negatives: 68.0000\n",
      "Epoch 11/50\n",
      "12/12 [==============================] - 0s 39ms/step - loss: 0.0123 - categorical_accuracy: 0.9991 - recall: 1.0000 - precision: 0.7854 - f1_metric: 0.8829 - true_positives: 1142.0000 - true_negatives: 4256.0000 - false_positives: 312.0000 - false_negatives: 0.0000e+00 - val_loss: 2.9862 - val_categorical_accuracy: 0.0709 - val_recall: 0.4646 - val_precision: 0.1603 - val_f1_metric: 0.2735 - val_true_positives: 59.0000 - val_true_negatives: 199.0000 - val_false_positives: 309.0000 - val_false_negatives: 68.0000\n",
      "Epoch 12/50\n",
      "12/12 [==============================] - 1s 43ms/step - loss: 0.0100 - categorical_accuracy: 0.9991 - recall: 1.0000 - precision: 0.7958 - f1_metric: 0.8871 - true_positives: 1142.0000 - true_negatives: 4275.0000 - false_positives: 293.0000 - false_negatives: 0.0000e+00 - val_loss: 3.0292 - val_categorical_accuracy: 0.0709 - val_recall: 0.4567 - val_precision: 0.1589 - val_f1_metric: 0.2732 - val_true_positives: 58.0000 - val_true_negatives: 201.0000 - val_false_positives: 307.0000 - val_false_negatives: 69.0000\n",
      "Epoch 13/50\n",
      "12/12 [==============================] - 0s 39ms/step - loss: 0.0089 - categorical_accuracy: 0.9991 - recall: 1.0000 - precision: 0.7790 - f1_metric: 0.8769 - true_positives: 1142.0000 - true_negatives: 4244.0000 - false_positives: 324.0000 - false_negatives: 0.0000e+00 - val_loss: 3.0736 - val_categorical_accuracy: 0.0709 - val_recall: 0.4567 - val_precision: 0.1589 - val_f1_metric: 0.2732 - val_true_positives: 58.0000 - val_true_negatives: 201.0000 - val_false_positives: 307.0000 - val_false_negatives: 69.0000\n",
      "Epoch 14/50\n",
      "12/12 [==============================] - 1s 42ms/step - loss: 0.0079 - categorical_accuracy: 0.9991 - recall: 1.0000 - precision: 0.8031 - f1_metric: 0.8926 - true_positives: 1142.0000 - true_negatives: 4288.0000 - false_positives: 280.0000 - false_negatives: 0.0000e+00 - val_loss: 3.0922 - val_categorical_accuracy: 0.0709 - val_recall: 0.4567 - val_precision: 0.1593 - val_f1_metric: 0.2734 - val_true_positives: 58.0000 - val_true_negatives: 202.0000 - val_false_positives: 306.0000 - val_false_negatives: 69.0000\n",
      "Epoch 15/50\n",
      "12/12 [==============================] - 0s 40ms/step - loss: 0.0074 - categorical_accuracy: 0.9991 - recall: 0.9991 - precision: 0.8185 - f1_metric: 0.8997 - true_positives: 1141.0000 - true_negatives: 4315.0000 - false_positives: 253.0000 - false_negatives: 1.0000 - val_loss: 3.1227 - val_categorical_accuracy: 0.0787 - val_recall: 0.4567 - val_precision: 0.1602 - val_f1_metric: 0.2740 - val_true_positives: 58.0000 - val_true_negatives: 204.0000 - val_false_positives: 304.0000 - val_false_negatives: 69.0000\n",
      "Epoch 16/50\n",
      "12/12 [==============================] - 1s 43ms/step - loss: 0.0066 - categorical_accuracy: 0.9991 - recall: 1.0000 - precision: 0.8117 - f1_metric: 0.8951 - true_positives: 1142.0000 - true_negatives: 4303.0000 - false_positives: 265.0000 - false_negatives: 0.0000e+00 - val_loss: 3.1371 - val_categorical_accuracy: 0.0866 - val_recall: 0.4646 - val_precision: 0.1630 - val_f1_metric: 0.2780 - val_true_positives: 59.0000 - val_true_negatives: 205.0000 - val_false_positives: 303.0000 - val_false_negatives: 68.0000\n"
     ]
    },
    {
     "name": "stdout",
     "output_type": "stream",
     "text": [
      "Epoch 17/50\n",
      "12/12 [==============================] - 0s 41ms/step - loss: 0.0061 - categorical_accuracy: 0.9991 - recall: 1.0000 - precision: 0.8088 - f1_metric: 0.8955 - true_positives: 1142.0000 - true_negatives: 4298.0000 - false_positives: 270.0000 - false_negatives: 0.0000e+00 - val_loss: 3.1659 - val_categorical_accuracy: 0.0866 - val_recall: 0.4646 - val_precision: 0.1634 - val_f1_metric: 0.2782 - val_true_positives: 59.0000 - val_true_negatives: 206.0000 - val_false_positives: 302.0000 - val_false_negatives: 68.0000\n",
      "Epoch 18/50\n",
      "12/12 [==============================] - 0s 42ms/step - loss: 0.0057 - categorical_accuracy: 0.9991 - recall: 1.0000 - precision: 0.8263 - f1_metric: 0.9061 - true_positives: 1142.0000 - true_negatives: 4328.0000 - false_positives: 240.0000 - false_negatives: 0.0000e+00 - val_loss: 3.1804 - val_categorical_accuracy: 0.0945 - val_recall: 0.4646 - val_precision: 0.1639 - val_f1_metric: 0.2785 - val_true_positives: 59.0000 - val_true_negatives: 207.0000 - val_false_positives: 301.0000 - val_false_negatives: 68.0000\n",
      "Epoch 19/50\n",
      "12/12 [==============================] - 0s 40ms/step - loss: 0.0053 - categorical_accuracy: 0.9982 - recall: 1.0000 - precision: 0.8287 - f1_metric: 0.9074 - true_positives: 1142.0000 - true_negatives: 4332.0000 - false_positives: 236.0000 - false_negatives: 0.0000e+00 - val_loss: 3.1832 - val_categorical_accuracy: 0.0945 - val_recall: 0.4646 - val_precision: 0.1648 - val_f1_metric: 0.2791 - val_true_positives: 59.0000 - val_true_negatives: 209.0000 - val_false_positives: 299.0000 - val_false_negatives: 68.0000\n",
      "Epoch 20/50\n",
      "12/12 [==============================] - 0s 42ms/step - loss: 0.0051 - categorical_accuracy: 0.9991 - recall: 1.0000 - precision: 0.8293 - f1_metric: 0.9076 - true_positives: 1142.0000 - true_negatives: 4333.0000 - false_positives: 235.0000 - false_negatives: 0.0000e+00 - val_loss: 3.1982 - val_categorical_accuracy: 0.0945 - val_recall: 0.4646 - val_precision: 0.1648 - val_f1_metric: 0.2791 - val_true_positives: 59.0000 - val_true_negatives: 209.0000 - val_false_positives: 299.0000 - val_false_negatives: 68.0000\n",
      "Epoch 21/50\n",
      "12/12 [==============================] - 0s 40ms/step - loss: 0.0046 - categorical_accuracy: 0.9991 - recall: 1.0000 - precision: 0.8305 - f1_metric: 0.9074 - true_positives: 1142.0000 - true_negatives: 4335.0000 - false_positives: 233.0000 - false_negatives: 0.0000e+00 - val_loss: 3.2113 - val_categorical_accuracy: 0.1024 - val_recall: 0.4724 - val_precision: 0.1676 - val_f1_metric: 0.2831 - val_true_positives: 60.0000 - val_true_negatives: 210.0000 - val_false_positives: 298.0000 - val_false_negatives: 67.0000\n",
      "Epoch 22/50\n",
      "12/12 [==============================] - 0s 42ms/step - loss: 0.0047 - categorical_accuracy: 0.9991 - recall: 1.0000 - precision: 0.8324 - f1_metric: 0.9104 - true_positives: 1142.0000 - true_negatives: 4338.0000 - false_positives: 230.0000 - false_negatives: 0.0000e+00 - val_loss: 3.2314 - val_categorical_accuracy: 0.1024 - val_recall: 0.4646 - val_precision: 0.1671 - val_f1_metric: 0.2834 - val_true_positives: 59.0000 - val_true_negatives: 214.0000 - val_false_positives: 294.0000 - val_false_negatives: 68.0000\n",
      "Epoch 23/50\n",
      "12/12 [==============================] - 0s 39ms/step - loss: 0.0044 - categorical_accuracy: 0.9991 - recall: 1.0000 - precision: 0.8299 - f1_metric: 0.9065 - true_positives: 1142.0000 - true_negatives: 4334.0000 - false_positives: 234.0000 - false_negatives: 0.0000e+00 - val_loss: 3.2426 - val_categorical_accuracy: 0.1024 - val_recall: 0.4803 - val_precision: 0.1718 - val_f1_metric: 0.2881 - val_true_positives: 61.0000 - val_true_negatives: 214.0000 - val_false_positives: 294.0000 - val_false_negatives: 66.0000\n",
      "Epoch 24/50\n",
      "12/12 [==============================] - 1s 42ms/step - loss: 0.0041 - categorical_accuracy: 0.9991 - recall: 1.0000 - precision: 0.8330 - f1_metric: 0.9107 - true_positives: 1142.0000 - true_negatives: 4339.0000 - false_positives: 229.0000 - false_negatives: 0.0000e+00 - val_loss: 3.2470 - val_categorical_accuracy: 0.1024 - val_recall: 0.4803 - val_precision: 0.1733 - val_f1_metric: 0.2920 - val_true_positives: 61.0000 - val_true_negatives: 217.0000 - val_false_positives: 291.0000 - val_false_negatives: 66.0000\n",
      "Epoch 25/50\n",
      "12/12 [==============================] - 0s 40ms/step - loss: 0.0039 - categorical_accuracy: 0.9991 - recall: 1.0000 - precision: 0.8422 - f1_metric: 0.9146 - true_positives: 1142.0000 - true_negatives: 4354.0000 - false_positives: 214.0000 - false_negatives: 0.0000e+00 - val_loss: 3.2503 - val_categorical_accuracy: 0.1024 - val_recall: 0.4803 - val_precision: 0.1738 - val_f1_metric: 0.2923 - val_true_positives: 61.0000 - val_true_negatives: 218.0000 - val_false_positives: 290.0000 - val_false_negatives: 66.0000\n",
      "Epoch 26/50\n",
      "12/12 [==============================] - 1s 42ms/step - loss: 0.0037 - categorical_accuracy: 0.9991 - recall: 1.0000 - precision: 0.8466 - f1_metric: 0.9177 - true_positives: 1142.0000 - true_negatives: 4361.0000 - false_positives: 207.0000 - false_negatives: 0.0000e+00 - val_loss: 3.2760 - val_categorical_accuracy: 0.1024 - val_recall: 0.4803 - val_precision: 0.1738 - val_f1_metric: 0.2923 - val_true_positives: 61.0000 - val_true_negatives: 218.0000 - val_false_positives: 290.0000 - val_false_negatives: 66.0000\n",
      "Epoch 27/50\n",
      "12/12 [==============================] - 0s 40ms/step - loss: 0.0037 - categorical_accuracy: 0.9991 - recall: 1.0000 - precision: 0.8510 - f1_metric: 0.9194 - true_positives: 1142.0000 - true_negatives: 4368.0000 - false_positives: 200.0000 - false_negatives: 0.0000e+00 - val_loss: 3.2783 - val_categorical_accuracy: 0.1024 - val_recall: 0.4803 - val_precision: 0.1738 - val_f1_metric: 0.2923 - val_true_positives: 61.0000 - val_true_negatives: 218.0000 - val_false_positives: 290.0000 - val_false_negatives: 66.0000\n",
      "Epoch 28/50\n",
      "12/12 [==============================] - 1s 42ms/step - loss: 0.0035 - categorical_accuracy: 0.9991 - recall: 1.0000 - precision: 0.8293 - f1_metric: 0.9069 - true_positives: 1142.0000 - true_negatives: 4333.0000 - false_positives: 235.0000 - false_negatives: 0.0000e+00 - val_loss: 3.2688 - val_categorical_accuracy: 0.1102 - val_recall: 0.4882 - val_precision: 0.1761 - val_f1_metric: 0.2946 - val_true_positives: 62.0000 - val_true_negatives: 218.0000 - val_false_positives: 290.0000 - val_false_negatives: 65.0000\n",
      "Epoch 29/50\n",
      "12/12 [==============================] - 0s 40ms/step - loss: 0.0034 - categorical_accuracy: 0.9991 - recall: 1.0000 - precision: 0.8336 - f1_metric: 0.9103 - true_positives: 1142.0000 - true_negatives: 4340.0000 - false_positives: 228.0000 - false_negatives: 0.0000e+00 - val_loss: 3.2717 - val_categorical_accuracy: 0.1181 - val_recall: 0.4882 - val_precision: 0.1771 - val_f1_metric: 0.2952 - val_true_positives: 62.0000 - val_true_negatives: 220.0000 - val_false_positives: 288.0000 - val_false_negatives: 65.0000\n",
      "Epoch 30/50\n",
      "12/12 [==============================] - 1s 42ms/step - loss: 0.0033 - categorical_accuracy: 0.9991 - recall: 1.0000 - precision: 0.8478 - f1_metric: 0.9210 - true_positives: 1142.0000 - true_negatives: 4363.0000 - false_positives: 205.0000 - false_negatives: 0.0000e+00 - val_loss: 3.2703 - val_categorical_accuracy: 0.1181 - val_recall: 0.4961 - val_precision: 0.1800 - val_f1_metric: 0.2978 - val_true_positives: 63.0000 - val_true_negatives: 221.0000 - val_false_positives: 287.0000 - val_false_negatives: 64.0000\n",
      "Epoch 31/50\n",
      "12/12 [==============================] - 0s 40ms/step - loss: 0.0031 - categorical_accuracy: 0.9991 - recall: 1.0000 - precision: 0.8472 - f1_metric: 0.9183 - true_positives: 1142.0000 - true_negatives: 4362.0000 - false_positives: 206.0000 - false_negatives: 0.0000e+00 - val_loss: 3.2871 - val_categorical_accuracy: 0.1181 - val_recall: 0.4961 - val_precision: 0.1800 - val_f1_metric: 0.2978 - val_true_positives: 63.0000 - val_true_negatives: 221.0000 - val_false_positives: 287.0000 - val_false_negatives: 64.0000\n",
      "Epoch 32/50\n"
     ]
    },
    {
     "name": "stdout",
     "output_type": "stream",
     "text": [
      "12/12 [==============================] - 0s 40ms/step - loss: 0.0029 - categorical_accuracy: 0.9991 - recall: 1.0000 - precision: 0.8612 - f1_metric: 0.9276 - true_positives: 1142.0000 - true_negatives: 4384.0000 - false_positives: 184.0000 - false_negatives: 0.0000e+00 - val_loss: 3.2908 - val_categorical_accuracy: 0.1181 - val_recall: 0.5039 - val_precision: 0.1823 - val_f1_metric: 0.3001 - val_true_positives: 64.0000 - val_true_negatives: 221.0000 - val_false_positives: 287.0000 - val_false_negatives: 63.0000\n",
      "Epoch 33/50\n",
      "12/12 [==============================] - 0s 40ms/step - loss: 0.0030 - categorical_accuracy: 0.9991 - recall: 1.0000 - precision: 0.8586 - f1_metric: 0.9247 - true_positives: 1142.0000 - true_negatives: 4380.0000 - false_positives: 188.0000 - false_negatives: 0.0000e+00 - val_loss: 3.2902 - val_categorical_accuracy: 0.1260 - val_recall: 0.5197 - val_precision: 0.1880 - val_f1_metric: 0.3132 - val_true_positives: 66.0000 - val_true_negatives: 223.0000 - val_false_positives: 285.0000 - val_false_negatives: 61.0000\n",
      "Epoch 34/50\n",
      "12/12 [==============================] - 1s 43ms/step - loss: 0.0029 - categorical_accuracy: 0.9991 - recall: 1.0000 - precision: 0.8542 - f1_metric: 0.9218 - true_positives: 1142.0000 - true_negatives: 4373.0000 - false_positives: 195.0000 - false_negatives: 0.0000e+00 - val_loss: 3.3019 - val_categorical_accuracy: 0.1260 - val_recall: 0.5276 - val_precision: 0.1903 - val_f1_metric: 0.3154 - val_true_positives: 67.0000 - val_true_negatives: 223.0000 - val_false_positives: 285.0000 - val_false_negatives: 60.0000\n",
      "Epoch 35/50\n",
      "12/12 [==============================] - 0s 40ms/step - loss: 0.0028 - categorical_accuracy: 0.9991 - recall: 1.0000 - precision: 0.8711 - f1_metric: 0.9319 - true_positives: 1142.0000 - true_negatives: 4399.0000 - false_positives: 169.0000 - false_negatives: 0.0000e+00 - val_loss: 3.2986 - val_categorical_accuracy: 0.1260 - val_recall: 0.5354 - val_precision: 0.1926 - val_f1_metric: 0.3177 - val_true_positives: 68.0000 - val_true_negatives: 223.0000 - val_false_positives: 285.0000 - val_false_negatives: 59.0000\n",
      "Epoch 36/50\n",
      "12/12 [==============================] - 0s 42ms/step - loss: 0.0028 - categorical_accuracy: 0.9991 - recall: 1.0000 - precision: 0.8522 - f1_metric: 0.9197 - true_positives: 1142.0000 - true_negatives: 4370.0000 - false_positives: 198.0000 - false_negatives: 0.0000e+00 - val_loss: 3.3242 - val_categorical_accuracy: 0.1260 - val_recall: 0.5276 - val_precision: 0.1914 - val_f1_metric: 0.3161 - val_true_positives: 67.0000 - val_true_negatives: 225.0000 - val_false_positives: 283.0000 - val_false_negatives: 60.0000\n",
      "Epoch 37/50\n",
      "12/12 [==============================] - 0s 40ms/step - loss: 0.0028 - categorical_accuracy: 0.9991 - recall: 1.0000 - precision: 0.8385 - f1_metric: 0.9145 - true_positives: 1142.0000 - true_negatives: 4348.0000 - false_positives: 220.0000 - false_negatives: 0.0000e+00 - val_loss: 3.3191 - val_categorical_accuracy: 0.1260 - val_recall: 0.5354 - val_precision: 0.1943 - val_f1_metric: 0.3187 - val_true_positives: 68.0000 - val_true_negatives: 226.0000 - val_false_positives: 282.0000 - val_false_negatives: 59.0000\n",
      "Epoch 38/50\n",
      "12/12 [==============================] - 1s 44ms/step - loss: 0.0026 - categorical_accuracy: 0.9991 - recall: 1.0000 - precision: 0.8516 - f1_metric: 0.9181 - true_positives: 1142.0000 - true_negatives: 4369.0000 - false_positives: 199.0000 - false_negatives: 0.0000e+00 - val_loss: 3.3080 - val_categorical_accuracy: 0.1260 - val_recall: 0.5354 - val_precision: 0.1954 - val_f1_metric: 0.3194 - val_true_positives: 68.0000 - val_true_negatives: 228.0000 - val_false_positives: 280.0000 - val_false_negatives: 59.0000\n",
      "Epoch 39/50\n",
      "12/12 [==============================] - 0s 40ms/step - loss: 0.0028 - categorical_accuracy: 0.9991 - recall: 1.0000 - precision: 0.8516 - f1_metric: 0.9201 - true_positives: 1142.0000 - true_negatives: 4369.0000 - false_positives: 199.0000 - false_negatives: 0.0000e+00 - val_loss: 3.3220 - val_categorical_accuracy: 0.1260 - val_recall: 0.5354 - val_precision: 0.1954 - val_f1_metric: 0.3194 - val_true_positives: 68.0000 - val_true_negatives: 228.0000 - val_false_positives: 280.0000 - val_false_negatives: 59.0000\n",
      "Epoch 40/50\n",
      "12/12 [==============================] - 0s 42ms/step - loss: 0.0027 - categorical_accuracy: 0.9991 - recall: 1.0000 - precision: 0.8619 - f1_metric: 0.9251 - true_positives: 1142.0000 - true_negatives: 4385.0000 - false_positives: 183.0000 - false_negatives: 0.0000e+00 - val_loss: 3.2566 - val_categorical_accuracy: 0.1260 - val_recall: 0.5354 - val_precision: 0.1971 - val_f1_metric: 0.3205 - val_true_positives: 68.0000 - val_true_negatives: 231.0000 - val_false_positives: 277.0000 - val_false_negatives: 59.0000\n",
      "Epoch 41/50\n",
      "12/12 [==============================] - 0s 40ms/step - loss: 0.0026 - categorical_accuracy: 0.9991 - recall: 1.0000 - precision: 0.8684 - f1_metric: 0.9292 - true_positives: 1142.0000 - true_negatives: 4395.0000 - false_positives: 173.0000 - false_negatives: 0.0000e+00 - val_loss: 3.2711 - val_categorical_accuracy: 0.1260 - val_recall: 0.5354 - val_precision: 0.1977 - val_f1_metric: 0.3208 - val_true_positives: 68.0000 - val_true_negatives: 232.0000 - val_false_positives: 276.0000 - val_false_negatives: 59.0000\n",
      "Epoch 42/50\n",
      "12/12 [==============================] - 0s 42ms/step - loss: 0.0026 - categorical_accuracy: 0.9991 - recall: 1.0000 - precision: 0.8678 - f1_metric: 0.9282 - true_positives: 1142.0000 - true_negatives: 4394.0000 - false_positives: 174.0000 - false_negatives: 0.0000e+00 - val_loss: 3.2787 - val_categorical_accuracy: 0.1339 - val_recall: 0.5354 - val_precision: 0.1977 - val_f1_metric: 0.3208 - val_true_positives: 68.0000 - val_true_negatives: 232.0000 - val_false_positives: 276.0000 - val_false_negatives: 59.0000\n",
      "Epoch 43/50\n",
      "12/12 [==============================] - 0s 40ms/step - loss: 0.0025 - categorical_accuracy: 0.9991 - recall: 1.0000 - precision: 0.8542 - f1_metric: 0.9202 - true_positives: 1142.0000 - true_negatives: 4373.0000 - false_positives: 195.0000 - false_negatives: 0.0000e+00 - val_loss: 3.2919 - val_categorical_accuracy: 0.1339 - val_recall: 0.5354 - val_precision: 0.1977 - val_f1_metric: 0.3208 - val_true_positives: 68.0000 - val_true_negatives: 232.0000 - val_false_positives: 276.0000 - val_false_negatives: 59.0000\n",
      "Epoch 44/50\n",
      "12/12 [==============================] - 0s 42ms/step - loss: 0.0024 - categorical_accuracy: 0.9991 - recall: 1.0000 - precision: 0.8574 - f1_metric: 0.9235 - true_positives: 1142.0000 - true_negatives: 4378.0000 - false_positives: 190.0000 - false_negatives: 0.0000e+00 - val_loss: 3.2883 - val_categorical_accuracy: 0.1339 - val_recall: 0.5354 - val_precision: 0.1983 - val_f1_metric: 0.3212 - val_true_positives: 68.0000 - val_true_negatives: 233.0000 - val_false_positives: 275.0000 - val_false_negatives: 59.0000\n",
      "Epoch 45/50\n",
      "12/12 [==============================] - 0s 40ms/step - loss: 0.0024 - categorical_accuracy: 0.9991 - recall: 1.0000 - precision: 0.8704 - f1_metric: 0.9321 - true_positives: 1142.0000 - true_negatives: 4398.0000 - false_positives: 170.0000 - false_negatives: 0.0000e+00 - val_loss: 3.3017 - val_categorical_accuracy: 0.1339 - val_recall: 0.5354 - val_precision: 0.1988 - val_f1_metric: 0.3215 - val_true_positives: 68.0000 - val_true_negatives: 234.0000 - val_false_positives: 274.0000 - val_false_negatives: 59.0000\n",
      "Epoch 46/50\n",
      "12/12 [==============================] - 1s 42ms/step - loss: 0.0023 - categorical_accuracy: 0.9991 - recall: 1.0000 - precision: 0.8691 - f1_metric: 0.9314 - true_positives: 1142.0000 - true_negatives: 4396.0000 - false_positives: 172.0000 - false_negatives: 0.0000e+00 - val_loss: 3.2830 - val_categorical_accuracy: 0.1339 - val_recall: 0.5433 - val_precision: 0.2023 - val_f1_metric: 0.3246 - val_true_positives: 69.0000 - val_true_negatives: 236.0000 - val_false_positives: 272.0000 - val_false_negatives: 58.0000\n",
      "Epoch 47/50\n"
     ]
    },
    {
     "name": "stdout",
     "output_type": "stream",
     "text": [
      "12/12 [==============================] - 0s 40ms/step - loss: 0.0023 - categorical_accuracy: 0.9991 - recall: 1.0000 - precision: 0.8554 - f1_metric: 0.9215 - true_positives: 1142.0000 - true_negatives: 4375.0000 - false_positives: 193.0000 - false_negatives: 0.0000e+00 - val_loss: 3.3004 - val_categorical_accuracy: 0.1339 - val_recall: 0.5433 - val_precision: 0.2023 - val_f1_metric: 0.3246 - val_true_positives: 69.0000 - val_true_negatives: 236.0000 - val_false_positives: 272.0000 - val_false_negatives: 58.0000\n",
      "Epoch 48/50\n",
      "12/12 [==============================] - 1s 43ms/step - loss: 0.0022 - categorical_accuracy: 0.9991 - recall: 1.0000 - precision: 0.8718 - f1_metric: 0.9317 - true_positives: 1142.0000 - true_negatives: 4400.0000 - false_positives: 168.0000 - false_negatives: 0.0000e+00 - val_loss: 3.2621 - val_categorical_accuracy: 0.1339 - val_recall: 0.5512 - val_precision: 0.2059 - val_f1_metric: 0.3277 - val_true_positives: 70.0000 - val_true_negatives: 238.0000 - val_false_positives: 270.0000 - val_false_negatives: 57.0000\n",
      "Epoch 49/50\n",
      "12/12 [==============================] - 0s 40ms/step - loss: 0.0022 - categorical_accuracy: 0.9982 - recall: 1.0000 - precision: 0.8744 - f1_metric: 0.9336 - true_positives: 1142.0000 - true_negatives: 4404.0000 - false_positives: 164.0000 - false_negatives: 0.0000e+00 - val_loss: 3.2364 - val_categorical_accuracy: 0.1339 - val_recall: 0.5591 - val_precision: 0.2088 - val_f1_metric: 0.3319 - val_true_positives: 71.0000 - val_true_negatives: 239.0000 - val_false_positives: 269.0000 - val_false_negatives: 56.0000\n",
      "Epoch 50/50\n",
      "12/12 [==============================] - 0s 42ms/step - loss: 0.0022 - categorical_accuracy: 0.9991 - recall: 1.0000 - precision: 0.8593 - f1_metric: 0.9235 - true_positives: 1142.0000 - true_negatives: 4381.0000 - false_positives: 187.0000 - false_negatives: 0.0000e+00 - val_loss: 3.2127 - val_categorical_accuracy: 0.1339 - val_recall: 0.5669 - val_precision: 0.2118 - val_f1_metric: 0.3346 - val_true_positives: 72.0000 - val_true_negatives: 240.0000 - val_false_positives: 268.0000 - val_false_negatives: 55.0000\n"
     ]
    }
   ],
   "source": [
    "batch_size = 100\n",
    "epochs = 50\n",
    "\n",
    "history = model.fit(x_train, y_train,\n",
    "                    batch_size=batch_size,\n",
    "                    epochs=epochs,\n",
    "                    verbose=1,\n",
    "                    validation_split=0.1)\n",
    "\n",
    "\n",
    "model.save('my_model.h5')\n"
   ]
  },
  {
   "cell_type": "code",
   "execution_count": 44,
   "metadata": {},
   "outputs": [],
   "source": [
    "from tensorflow.keras.models import model_from_json\n",
    "# serialize model to JSON\n",
    "model_json = model.to_json()\n",
    "with open(\"model.json\", \"w\") as json_file:\n",
    "    json_file.write(model_json)"
   ]
  },
  {
   "cell_type": "code",
   "execution_count": 45,
   "metadata": {
    "id": "FdiaV7a5jUw0"
   },
   "outputs": [],
   "source": [
    "import pickle\n",
    "\n",
    "# saving\n",
    "with open('tokenizer.pickle', 'wb') as handle:\n",
    "    pickle.dump(tokenizer, handle, protocol=pickle.HIGHEST_PROTOCOL)\n",
    "\n",
    "# loading\n",
    "with open('tokenizer.pickle', 'rb') as handle:\n",
    "    tokenizer = pickle.load(handle)"
   ]
  },
  {
   "cell_type": "code",
   "execution_count": 46,
   "metadata": {
    "colab": {
     "base_uri": "https://localhost:8080/"
    },
    "id": "LH4-eWntjU0j",
    "outputId": "98354029-a9af-48fc-bbdc-81b945f5526d"
   },
   "outputs": [
    {
     "name": "stdout",
     "output_type": "stream",
     "text": [
      "Loss categorical_accuracy Recall Precision f1_metric TruePositives TrueNegatives FalsePositives FalseNegatives\n",
      "[2.191162109375, 0.26100629568099976, 0.6886792182922363, 0.2576470673084259, 0.3742395341396332, 219.0, 641.0, 631.0, 99.0]\n"
     ]
    }
   ],
   "source": [
    "#model = keras.models.load_model('my_model.h1')\n",
    "Evaluation_valus = model.evaluate(x_test,y_test,verbose=0)\n",
    "print(\"Loss\" , 'categorical_accuracy','Recall','Precision','f1_metric','TruePositives','TrueNegatives','FalsePositives','FalseNegatives')\n",
    "\n",
    "print(Evaluation_valus)\n"
   ]
  },
  {
   "cell_type": "code",
   "execution_count": 47,
   "metadata": {},
   "outputs": [
    {
     "name": "stdout",
     "output_type": "stream",
     "text": [
      "Loading saved tokenizer...\n",
      "Loading saved model...\n"
     ]
    }
   ],
   "source": [
    "#Predictions\n",
    "import tensorflow as tf\n",
    "from tensorflow import keras\n",
    "from tensorflow.keras.models import model_from_json\n",
    "from tensorflow.keras.preprocessing.text import tokenizer_from_json\n",
    "from tensorflow.keras.preprocessing import sequence\n",
    "import numpy as np\n",
    "import pickle\n",
    "\n",
    "with open('tokenizer.pickle', 'rb') as handle:\n",
    "    tokenizer = pickle.load(handle)\n",
    "print(\"Loading saved tokenizer...\")\n",
    "\n",
    "# load json and create model\n",
    "json_file = open('model.json', 'r')\n",
    "loaded_model_json = json_file.read()\n",
    "json_file.close()\n",
    "\n",
    "model = model_from_json(loaded_model_json)\n",
    "# load weights into new model\n",
    "model.load_weights(\"my_model.h5\")\n",
    "print(\"Loading saved model...\")\n",
    "\n",
    "def predict_response(response):\n",
    "    '''\n",
    "    0 - very negative\n",
    "    1 - somewhat negative\n",
    "    2 - neutral\n",
    "    3 - somewhat positive\n",
    "    4 - very positive\n",
    "    '''\n",
    "    print(f'You said: \\n{response}\\n')\n",
    "    response = tokenizer.texts_to_sequences(response)\n",
    "    response = sequence.pad_sequences(response, maxlen=11109)\n",
    "    pred = np.argmax(model.predict(response))\n",
    "    if pred == 0:\n",
    "        return 'Very Negative'\n",
    "    elif pred == 1:\n",
    "        return 'Somewhat Negative'\n",
    "    elif pred == 2:\n",
    "        return 'Nuetral'\n",
    "    elif pred == 3:\n",
    "        return 'Somewhat Positive'\n",
    "    elif pred == 4:\n",
    "        return 'Very Positive'   "
   ]
  },
  {
   "cell_type": "code",
   "execution_count": 58,
   "metadata": {},
   "outputs": [
    {
     "name": "stdout",
     "output_type": "stream",
     "text": [
      "Život bez chorob.Laska bez omedzení.\n",
      "You said: \n",
      "['Život bez chorob.Laska bez omedzení.']\n",
      "\n",
      "Somewhat Negative\n"
     ]
    }
   ],
   "source": [
    "user_input = input()\n",
    "response = predict_response(response=[user_input])\n",
    "print(response)\n"
   ]
  },
  {
   "cell_type": "code",
   "execution_count": null,
   "metadata": {},
   "outputs": [],
   "source": []
  }
 ],
 "metadata": {
  "colab": {
   "collapsed_sections": [],
   "name": "Untitled11.ipynb",
   "provenance": []
  },
  "kernelspec": {
   "display_name": "Python 3 (ipykernel)",
   "language": "python",
   "name": "python3"
  },
  "language_info": {
   "codemirror_mode": {
    "name": "ipython",
    "version": 3
   },
   "file_extension": ".py",
   "mimetype": "text/x-python",
   "name": "python",
   "nbconvert_exporter": "python",
   "pygments_lexer": "ipython3",
   "version": "3.9.7"
  }
 },
 "nbformat": 4,
 "nbformat_minor": 1
}
