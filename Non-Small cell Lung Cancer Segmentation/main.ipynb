{
 "cells": [
  {
   "cell_type": "code",
   "execution_count": null,
   "metadata": {
    "colab": {
     "base_uri": "https://localhost:8080/"
    },
    "executionInfo": {
     "elapsed": 59561,
     "status": "ok",
     "timestamp": 1624272785856,
     "user": {
      "displayName": "haniya fahad",
      "photoUrl": "",
      "userId": "07744268653047656261"
     },
     "user_tz": -300
    },
    "id": "l1Z3pbThrRxk",
    "outputId": "e89c88d8-6dd0-48c2-be43-9355a4a78ece"
   },
   "outputs": [],
   "source": [
    "from google.colab import drive\n",
    "drive.mount('/content/drive')"
   ]
  },
  {
   "cell_type": "code",
   "execution_count": null,
   "metadata": {
    "id": "FpIWqiGBr0sn"
   },
   "outputs": [],
   "source": [
    "import os\n",
    "os.chdir(\"/content/drive/MyDrive\")\n",
    "!ls"
   ]
  },
  {
   "cell_type": "code",
   "execution_count": null,
   "metadata": {
    "colab": {
     "base_uri": "https://localhost:8080/"
    },
    "executionInfo": {
     "elapsed": 353,
     "status": "ok",
     "timestamp": 1624273144242,
     "user": {
      "displayName": "haniya fahad",
      "photoUrl": "",
      "userId": "07744268653047656261"
     },
     "user_tz": -300
    },
    "id": "U1SDuJ4EOS0G",
    "outputId": "8e963cf5-823d-44c9-c4da-b6546bc060a9"
   },
   "outputs": [],
   "source": [
    "cd /content/drive/MyDrive"
   ]
  },
  {
   "cell_type": "code",
   "execution_count": 1,
   "metadata": {
    "executionInfo": {
     "elapsed": 148743,
     "status": "ok",
     "timestamp": 1624273297138,
     "user": {
      "displayName": "haniya fahad",
      "photoUrl": "",
      "userId": "07744268653047656261"
     },
     "user_tz": -300
    },
    "id": "_M_eFh24ml55"
   },
   "outputs": [],
   "source": [
    "###################3 start from here ###########################3\n",
    "\n",
    "import numpy as np\n",
    "images = np.load ('images_1.npy')\n",
    "masks = np.load ('masks_1.npy')"
   ]
  },
  {
   "cell_type": "code",
   "execution_count": 2,
   "metadata": {
    "colab": {
     "base_uri": "https://localhost:8080/"
    },
    "executionInfo": {
     "elapsed": 3,
     "status": "ok",
     "timestamp": 1623578675102,
     "user": {
      "displayName": "haniya fahad",
      "photoUrl": "",
      "userId": "07744268653047656261"
     },
     "user_tz": -300
    },
    "id": "LaRXGs5ssWpv",
    "outputId": "7dee627f-8730-4ada-b7ed-b6af2ff2cc03"
   },
   "outputs": [
    {
     "name": "stdout",
     "output_type": "stream",
     "text": [
      "(1, 32550, 128, 128)\n",
      "(1, 32550, 128, 128)\n"
     ]
    }
   ],
   "source": [
    "print(images.shape)\n",
    "print(masks.shape)"
   ]
  },
  {
   "cell_type": "code",
   "execution_count": 3,
   "metadata": {
    "colab": {
     "base_uri": "https://localhost:8080/"
    },
    "executionInfo": {
     "elapsed": 25,
     "status": "ok",
     "timestamp": 1624273297144,
     "user": {
      "displayName": "haniya fahad",
      "photoUrl": "",
      "userId": "07744268653047656261"
     },
     "user_tz": -300
    },
    "id": "uxFGUXip4zY-",
    "outputId": "bda3b63f-6334-4e35-8faa-70f0e536a4a7"
   },
   "outputs": [
    {
     "name": "stdout",
     "output_type": "stream",
     "text": [
      "(32550,)\n"
     ]
    }
   ],
   "source": [
    "labels=np.append(np.zeros(14079),np.ones(18471))\n",
    "print(labels.shape)"
   ]
  },
  {
   "cell_type": "code",
   "execution_count": 4,
   "metadata": {
    "colab": {
     "base_uri": "https://localhost:8080/",
     "height": 36
    },
    "executionInfo": {
     "elapsed": 5349,
     "status": "ok",
     "timestamp": 1623577735498,
     "user": {
      "displayName": "haniya fahad",
      "photoUrl": "",
      "userId": "07744268653047656261"
     },
     "user_tz": -300
    },
    "id": "UArH_l8lqwUw",
    "outputId": "c614d56e-6ae5-4c57-eb05-7c702bf65c5a"
   },
   "outputs": [
    {
     "data": {
      "text/plain": [
       "'2.1.0'"
      ]
     },
     "execution_count": 4,
     "metadata": {},
     "output_type": "execute_result"
    }
   ],
   "source": [
    "import tensorflow as tf\n",
    "tf.__version__"
   ]
  },
  {
   "cell_type": "code",
   "execution_count": 5,
   "metadata": {
    "executionInfo": {
     "elapsed": 22,
     "status": "ok",
     "timestamp": 1624273297145,
     "user": {
      "displayName": "haniya fahad",
      "photoUrl": "",
      "userId": "07744268653047656261"
     },
     "user_tz": -300
    },
    "id": "9Xq06SQ2qwUx"
   },
   "outputs": [],
   "source": [
    "images = np.expand_dims(images.squeeze(), -1)  "
   ]
  },
  {
   "cell_type": "code",
   "execution_count": 6,
   "metadata": {
    "executionInfo": {
     "elapsed": 22,
     "status": "ok",
     "timestamp": 1624273297147,
     "user": {
      "displayName": "haniya fahad",
      "photoUrl": "",
      "userId": "07744268653047656261"
     },
     "user_tz": -300
    },
    "id": "kF45X4rxqwUx"
   },
   "outputs": [],
   "source": [
    "masks = np.expand_dims(masks.squeeze(), -1)  "
   ]
  },
  {
   "cell_type": "code",
   "execution_count": 7,
   "metadata": {
    "colab": {
     "base_uri": "https://localhost:8080/"
    },
    "executionInfo": {
     "elapsed": 7,
     "status": "ok",
     "timestamp": 1623577735499,
     "user": {
      "displayName": "haniya fahad",
      "photoUrl": "",
      "userId": "07744268653047656261"
     },
     "user_tz": -300
    },
    "id": "syHLM6hlswCG",
    "outputId": "8ad79d74-13d5-44c4-ace8-f144cecf8dc7"
   },
   "outputs": [
    {
     "name": "stdout",
     "output_type": "stream",
     "text": [
      "(32550, 128, 128, 1)\n",
      "(32550, 128, 128, 1)\n"
     ]
    }
   ],
   "source": [
    "print(images.shape)\n",
    "print(masks.shape)"
   ]
  },
  {
   "cell_type": "code",
   "execution_count": 8,
   "metadata": {
    "colab": {
     "base_uri": "https://localhost:8080/",
     "height": 221
    },
    "executionInfo": {
     "elapsed": 2276,
     "status": "ok",
     "timestamp": 1623578715246,
     "user": {
      "displayName": "haniya fahad",
      "photoUrl": "",
      "userId": "07744268653047656261"
     },
     "user_tz": -300
    },
    "id": "5cQVxsPpvLH3",
    "outputId": "f331d768-8998-4c35-842f-27f2511a5b40"
   },
   "outputs": [
    {
     "data": {
      "text/plain": [
       "<matplotlib.image.AxesImage at 0x21bb5852188>"
      ]
     },
     "execution_count": 8,
     "metadata": {},
     "output_type": "execute_result"
    },
    {
     "data": {
      "image/png": "[encoded data removed]",
      "text/plain": [
       "<Figure size 432x288 with 2 Axes>"
      ]
     },
     "metadata": {
      "needs_background": "light"
     },
     "output_type": "display_data"
    }
   ],
   "source": [
    "####################  not required ##################################\n",
    "\n",
    "import matplotlib.pyplot as plt\n",
    "img_index = 100\n",
    "plt.subplot(1,2,1)\n",
    "plt.imshow(images[100])\n",
    "plt.subplot(1,2,2)\n",
    "plt.imshow(masks[100])"
   ]
  },
  {
   "cell_type": "code",
   "execution_count": 9,
   "metadata": {
    "executionInfo": {
     "elapsed": 7626,
     "status": "ok",
     "timestamp": 1624273304752,
     "user": {
      "displayName": "haniya fahad",
      "photoUrl": "",
      "userId": "07744268653047656261"
     },
     "user_tz": -300
    },
    "id": "nV0bjsmcsiCh"
   },
   "outputs": [
    {
     "name": "stderr",
     "output_type": "stream",
     "text": [
      "Using TensorFlow backend.\n"
     ]
    }
   ],
   "source": [
    "from keras.utils import np_utils\n",
    "labels=np_utils.to_categorical(labels)"
   ]
  },
  {
   "cell_type": "code",
   "execution_count": 10,
   "metadata": {
    "colab": {
     "base_uri": "https://localhost:8080/"
    },
    "executionInfo": {
     "elapsed": 494,
     "status": "ok",
     "timestamp": 1623576493132,
     "user": {
      "displayName": "haniya fahad",
      "photoUrl": "",
      "userId": "07744268653047656261"
     },
     "user_tz": -300
    },
    "id": "7cswN3OftBvI",
    "outputId": "22c911a9-1aad-4ddb-8fb3-3084c3edccdc"
   },
   "outputs": [
    {
     "data": {
      "text/plain": [
       "(32550, 2)"
      ]
     },
     "execution_count": 10,
     "metadata": {},
     "output_type": "execute_result"
    }
   ],
   "source": [
    "labels.shape"
   ]
  },
  {
   "cell_type": "code",
   "execution_count": 11,
   "metadata": {
    "executionInfo": {
     "elapsed": 1258,
     "status": "ok",
     "timestamp": 1624273311705,
     "user": {
      "displayName": "haniya fahad",
      "photoUrl": "",
      "userId": "07744268653047656261"
     },
     "user_tz": -300
    },
    "id": "vrzmAvSAs_gO"
   },
   "outputs": [],
   "source": [
    "from scipy.io import loadmat\n",
    "from skimage import io\n",
    "from skimage.transform import resize\n",
    "from sklearn.model_selection import train_test_split\n",
    "import keras\n",
    "\n",
    "import pandas as pd\n",
    "import numpy as np\n",
    "\n",
    "from os.path import join\n",
    "\n",
    "import matplotlib.pyplot as plt\n",
    "import seaborn as sns\n",
    "from IPython.display import Image\n",
    "from IPython.display import clear_output\n",
    "\n",
    "from datetime import datetime\n",
    "from dateutil.relativedelta import relativedelta\n",
    "from datetime import timedelta\n",
    "\n",
    "\n",
    "\n",
    "from keras import backend as K\n",
    "\n",
    "def dice_coef(y_true, y_pred, smooth=1):\n",
    "    y_true_f = K.flatten(y_true)\n",
    "    y_pred_f = K.flatten(y_pred)\n",
    "    intersection =K.sum(y_true_f * y_pred_f)\n",
    "    return (2. * intersection + smooth) / (K.sum(y_true_f) + K.sum(y_pred_f) + smooth)\n",
    "\n",
    "def dice_coef_loss(y_true, y_pred):\n",
    "    return 1-dice_coef(y_true, y_pred)\n",
    "\n"
   ]
  },
  {
   "cell_type": "code",
   "execution_count": 12,
   "metadata": {
    "executionInfo": {
     "elapsed": 379,
     "status": "ok",
     "timestamp": 1624273334860,
     "user": {
      "displayName": "haniya fahad",
      "photoUrl": "",
      "userId": "07744268653047656261"
     },
     "user_tz": -300
    },
    "id": "eY-rpWIrs_gg"
   },
   "outputs": [],
   "source": [
    "import tensorflow.keras\n",
    "from tensorflow.keras.models import Model\n",
    "from tensorflow.keras.layers import Input, Dense, Dropout, Activation, Flatten,BatchNormalization\n",
    "from tensorflow.keras.layers import Conv2D, MaxPooling2D\n",
    "\n",
    "from tensorflow.keras.utils import plot_model\n",
    "\n"
   ]
  },
  {
   "cell_type": "code",
   "execution_count": 13,
   "metadata": {
    "executionInfo": {
     "elapsed": 6083,
     "status": "ok",
     "timestamp": 1624273342604,
     "user": {
      "displayName": "haniya fahad",
      "photoUrl": "",
      "userId": "07744268653047656261"
     },
     "user_tz": -300
    },
    "id": "hrkomJeLfB7P"
   },
   "outputs": [],
   "source": [
    "import numpy as np \n",
    "import os\n",
    "import skimage.io as io\n",
    "import skimage.transform as trans\n",
    "import numpy as np\n",
    "from tensorflow.keras.models import *\n",
    "from tensorflow.keras.layers import *\n",
    "from tensorflow.keras.optimizers import *\n",
    "from tensorflow.keras.callbacks import ModelCheckpoint, LearningRateScheduler\n",
    "from tensorflow.keras import backend as Keras\n",
    "\n",
    "#from tensorflow.keras import backend as Keras\n",
    "\n",
    "from keras import backend as K\n",
    "\n",
    "def dice_coef(y_true, y_pred, smooth=1):\n",
    "    y_true_f = K.flatten(y_true)\n",
    "    y_pred_f = K.flatten(y_pred)\n",
    "    intersection =K.sum(y_true_f * y_pred_f)\n",
    "    return (2. * intersection + smooth) / (K.sum(y_true_f) + K.sum(y_pred_f) + smooth)\n",
    "\n",
    "def dice_coef_loss(y_true, y_pred):\n",
    "    return 1-dice_coef(y_true, y_pred)\n",
    "\n",
    "\n",
    "pretrained_weights = None\n",
    "input_size = (128,128,1)\n",
    "inputTensor = Input(input_size,name='input')\n",
    "conv1 = Conv2D(64, 3, activation = 'relu', padding = 'same', kernel_initializer = 'he_normal')(inputTensor)\n",
    "conv1 = Conv2D(64, 3, activation = 'relu', padding = 'same', kernel_initializer = 'he_normal')(conv1)\n",
    "bn=BatchNormalization()(conv1)  ######### batch normalization\n",
    "pool1 = MaxPooling2D(pool_size=(2, 2))(bn)\n",
    "conv2 = Conv2D(128, 3, activation = 'relu', padding = 'same', kernel_initializer = 'he_normal')(pool1)\n",
    "conv2 = Conv2D(128, 3, activation = 'relu', padding = 'same', kernel_initializer = 'he_normal')(conv2)\n",
    "bn1=BatchNormalization()(conv2)   ######### batch normalization\n",
    "pool2 = MaxPooling2D(pool_size=(2, 2))(conv2)\n",
    "conv3 = Conv2D(256, 3, activation = 'relu', padding = 'same', kernel_initializer = 'he_normal')(pool2)\n",
    "conv3 = Conv2D(256, 3, activation = 'relu', padding = 'same', kernel_initializer = 'he_normal')(conv3)\n",
    "bn2=BatchNormalization()(conv3)      ######### batch normalization\n",
    "pool3 = MaxPooling2D(pool_size=(2, 2))(conv3)\n",
    "conv4 = Conv2D(512, 3, activation = 'relu', padding = 'same', kernel_initializer = 'he_normal')(pool3)\n",
    "conv4 = Conv2D(512, 3, activation = 'relu', padding = 'same', kernel_initializer = 'he_normal')(conv4)\n",
    "bn3=BatchNormalization()(conv4)      ######### batch normalization\n",
    "drop4 = Dropout(0.5)(bn3)\n",
    "pool4 = MaxPooling2D(pool_size=(2, 2))(drop4)\n",
    "#Decoder path\n",
    "conv5 = Conv2D(512, 3, activation = 'relu', padding = 'same', kernel_initializer = 'he_normal')(pool4)\n",
    "conv5 = Conv2D(512, 3, activation = 'relu', padding = 'same', kernel_initializer = 'he_normal')(conv5)\n",
    "bn4=BatchNormalization()(conv5)     ######### batch normalization\n",
    "drop5 = Dropout(0.5)(bn4)\n",
    "\n",
    "up6 = Conv2D(256, 2, activation = 'relu', padding = 'same', kernel_initializer = 'he_normal')(UpSampling2D(size = (2,2))(drop5))\n",
    "merge6 = concatenate([drop4,up6], axis = 3)\n",
    "conv6 = Conv2D(256, 3, activation = 'relu', padding = 'same', kernel_initializer = 'he_normal')(merge6)\n",
    "conv6 = Conv2D(256, 3, activation = 'relu', padding = 'same', kernel_initializer = 'he_normal')(conv6)\n",
    "bn5=BatchNormalization()(conv6)     ######### batch normalization\n",
    "\n",
    "up7 = Conv2D(128, 2, activation = 'relu', padding = 'same', kernel_initializer = 'he_normal')(UpSampling2D(size = (2,2))(bn5))\n",
    "merge7 = concatenate([conv3,up7], axis = 3)\n",
    "conv7 = Conv2D(128, 3, activation = 'relu', padding = 'same', kernel_initializer = 'he_normal')(merge7)\n",
    "conv7 = Conv2D(128, 3, activation = 'relu', padding = 'same', kernel_initializer = 'he_normal')(conv7)\n",
    "bn6=BatchNormalization()(conv7)       ######### batch normalization\n",
    "\n",
    "up8 = Conv2D(64, 2, activation = 'relu', padding = 'same', kernel_initializer = 'he_normal')(UpSampling2D(size = (2,2))(bn6))\n",
    "merge8 = concatenate([conv2,up8], axis = 3)\n",
    "conv8 = Conv2D(64, 3, activation = 'relu', padding = 'same', kernel_initializer = 'he_normal')(merge8)\n",
    "conv8 = Conv2D(64, 3, activation = 'relu', padding = 'same', kernel_initializer = 'he_normal')(conv8)\n",
    "bn7=BatchNormalization()(conv8)        ######### batch normalization\n",
    "\n",
    "up9 = Conv2D(32, 2, activation = 'relu', padding = 'same', kernel_initializer = 'he_normal')(UpSampling2D(size = (2,2))(bn7))\n",
    "merge9 = concatenate([conv1,up9], axis = 3)\n",
    "conv9 = Conv2D(32, 3, activation = 'relu', padding = 'same', kernel_initializer = 'he_normal')(merge9)\n",
    "conv9 = Conv2D(32, 3, activation = 'relu', padding = 'same', kernel_initializer = 'he_normal')(conv9)\n",
    "conv9 = Conv2D(2, 3, activation = 'relu', padding = 'same', kernel_initializer = 'he_normal')(conv9)\n",
    "segmentation_output = Conv2D(1, 1, activation = 'sigmoid', padding = 'same', kernel_initializer = 'he_normal',name='segmentation')(conv9)\n",
    "#bn8=BatchNormalization()(conv10)       ######### batch normalization\n",
    "#segmentation_output = Conv2D(1,1, activation='softmax',name='segmentation')(bn8)\n",
    "\t\t\t\t"
   ]
  },
  {
   "cell_type": "markdown",
   "metadata": {
    "id": "ID-EAnETs_gg"
   },
   "source": [
    "## Keras Functional API\n",
    "- This is the main branch\n",
    "- These layers are common to both the tasks\n"
   ]
  },
  {
   "cell_type": "markdown",
   "metadata": {
    "id": "g0c2VGQUs_gh"
   },
   "source": [
    "- This is where the network branches for multiple outputs/tasks\n",
    "- gender is n x 2 output where as age is n x 1 output"
   ]
  },
  {
   "cell_type": "code",
   "execution_count": 14,
   "metadata": {
    "executionInfo": {
     "elapsed": 6,
     "status": "ok",
     "timestamp": 1624273343752,
     "user": {
      "displayName": "haniya fahad",
      "photoUrl": "",
      "userId": "07744268653047656261"
     },
     "user_tz": -300
    },
    "id": "vwr4LBH2f_iM"
   },
   "outputs": [],
   "source": [
    "dense_classification=Flatten()(pool4)\n",
    "dense_classification=Dense(300)(dense_classification)\n",
    "classification_output = Dense(2, activation='softmax', name='classification')(dense_classification)\n",
    "# segmentation_output = Conv2D(1,1, activation='softmax',name='segmentation')(bn8)"
   ]
  },
  {
   "cell_type": "code",
   "execution_count": 15,
   "metadata": {
    "colab": {
     "base_uri": "https://localhost:8080/"
    },
    "executionInfo": {
     "elapsed": 362,
     "status": "ok",
     "timestamp": 1624273348524,
     "user": {
      "displayName": "haniya fahad",
      "photoUrl": "",
      "userId": "07744268653047656261"
     },
     "user_tz": -300
    },
    "id": "DLIYbd5bs_gh",
    "outputId": "5644b520-f461-40a3-aedb-2eae189cd8c8",
    "scrolled": false
   },
   "outputs": [
    {
     "name": "stdout",
     "output_type": "stream",
     "text": [
      "Model: \"model\"\n",
      "__________________________________________________________________________________________________\n",
      "Layer (type)                    Output Shape         Param #     Connected to                     \n",
      "==================================================================================================\n",
      "input (InputLayer)              [(None, 128, 128, 1) 0                                            \n",
      "__________________________________________________________________________________________________\n",
      "conv2d (Conv2D)                 (None, 128, 128, 64) 640         input[0][0]                      \n",
      "__________________________________________________________________________________________________\n",
      "conv2d_1 (Conv2D)               (None, 128, 128, 64) 36928       conv2d[0][0]                     \n",
      "__________________________________________________________________________________________________\n",
      "batch_normalization (BatchNorma (None, 128, 128, 64) 256         conv2d_1[0][0]                   \n",
      "__________________________________________________________________________________________________\n",
      "max_pooling2d (MaxPooling2D)    (None, 64, 64, 64)   0           batch_normalization[0][0]        \n",
      "__________________________________________________________________________________________________\n",
      "conv2d_2 (Conv2D)               (None, 64, 64, 128)  73856       max_pooling2d[0][0]              \n",
      "__________________________________________________________________________________________________\n",
      "conv2d_3 (Conv2D)               (None, 64, 64, 128)  147584      conv2d_2[0][0]                   \n",
      "__________________________________________________________________________________________________\n",
      "max_pooling2d_1 (MaxPooling2D)  (None, 32, 32, 128)  0           conv2d_3[0][0]                   \n",
      "__________________________________________________________________________________________________\n",
      "conv2d_4 (Conv2D)               (None, 32, 32, 256)  295168      max_pooling2d_1[0][0]            \n",
      "__________________________________________________________________________________________________\n",
      "conv2d_5 (Conv2D)               (None, 32, 32, 256)  590080      conv2d_4[0][0]                   \n",
      "__________________________________________________________________________________________________\n",
      "max_pooling2d_2 (MaxPooling2D)  (None, 16, 16, 256)  0           conv2d_5[0][0]                   \n",
      "__________________________________________________________________________________________________\n",
      "conv2d_6 (Conv2D)               (None, 16, 16, 512)  1180160     max_pooling2d_2[0][0]            \n",
      "__________________________________________________________________________________________________\n",
      "conv2d_7 (Conv2D)               (None, 16, 16, 512)  2359808     conv2d_6[0][0]                   \n",
      "__________________________________________________________________________________________________\n",
      "batch_normalization_3 (BatchNor (None, 16, 16, 512)  2048        conv2d_7[0][0]                   \n",
      "__________________________________________________________________________________________________\n",
      "dropout (Dropout)               (None, 16, 16, 512)  0           batch_normalization_3[0][0]      \n",
      "__________________________________________________________________________________________________\n",
      "max_pooling2d_3 (MaxPooling2D)  (None, 8, 8, 512)    0           dropout[0][0]                    \n",
      "__________________________________________________________________________________________________\n",
      "conv2d_8 (Conv2D)               (None, 8, 8, 512)    2359808     max_pooling2d_3[0][0]            \n",
      "__________________________________________________________________________________________________\n",
      "conv2d_9 (Conv2D)               (None, 8, 8, 512)    2359808     conv2d_8[0][0]                   \n",
      "__________________________________________________________________________________________________\n",
      "batch_normalization_4 (BatchNor (None, 8, 8, 512)    2048        conv2d_9[0][0]                   \n",
      "__________________________________________________________________________________________________\n",
      "dropout_1 (Dropout)             (None, 8, 8, 512)    0           batch_normalization_4[0][0]      \n",
      "__________________________________________________________________________________________________\n",
      "up_sampling2d (UpSampling2D)    (None, 16, 16, 512)  0           dropout_1[0][0]                  \n",
      "__________________________________________________________________________________________________\n",
      "conv2d_10 (Conv2D)              (None, 16, 16, 256)  524544      up_sampling2d[0][0]              \n",
      "__________________________________________________________________________________________________\n",
      "concatenate (Concatenate)       (None, 16, 16, 768)  0           dropout[0][0]                    \n",
      "                                                                 conv2d_10[0][0]                  \n",
      "__________________________________________________________________________________________________\n",
      "conv2d_11 (Conv2D)              (None, 16, 16, 256)  1769728     concatenate[0][0]                \n",
      "__________________________________________________________________________________________________\n",
      "conv2d_12 (Conv2D)              (None, 16, 16, 256)  590080      conv2d_11[0][0]                  \n",
      "__________________________________________________________________________________________________\n",
      "batch_normalization_5 (BatchNor (None, 16, 16, 256)  1024        conv2d_12[0][0]                  \n",
      "__________________________________________________________________________________________________\n",
      "up_sampling2d_1 (UpSampling2D)  (None, 32, 32, 256)  0           batch_normalization_5[0][0]      \n",
      "__________________________________________________________________________________________________\n",
      "conv2d_13 (Conv2D)              (None, 32, 32, 128)  131200      up_sampling2d_1[0][0]            \n",
      "__________________________________________________________________________________________________\n",
      "concatenate_1 (Concatenate)     (None, 32, 32, 384)  0           conv2d_5[0][0]                   \n",
      "                                                                 conv2d_13[0][0]                  \n",
      "__________________________________________________________________________________________________\n",
      "conv2d_14 (Conv2D)              (None, 32, 32, 128)  442496      concatenate_1[0][0]              \n",
      "__________________________________________________________________________________________________\n",
      "conv2d_15 (Conv2D)              (None, 32, 32, 128)  147584      conv2d_14[0][0]                  \n",
      "__________________________________________________________________________________________________\n",
      "batch_normalization_6 (BatchNor (None, 32, 32, 128)  512         conv2d_15[0][0]                  \n",
      "__________________________________________________________________________________________________\n",
      "up_sampling2d_2 (UpSampling2D)  (None, 64, 64, 128)  0           batch_normalization_6[0][0]      \n",
      "__________________________________________________________________________________________________\n",
      "conv2d_16 (Conv2D)              (None, 64, 64, 64)   32832       up_sampling2d_2[0][0]            \n",
      "__________________________________________________________________________________________________\n",
      "concatenate_2 (Concatenate)     (None, 64, 64, 192)  0           conv2d_3[0][0]                   \n",
      "                                                                 conv2d_16[0][0]                  \n",
      "__________________________________________________________________________________________________\n",
      "conv2d_17 (Conv2D)              (None, 64, 64, 64)   110656      concatenate_2[0][0]              \n",
      "__________________________________________________________________________________________________\n",
      "conv2d_18 (Conv2D)              (None, 64, 64, 64)   36928       conv2d_17[0][0]                  \n",
      "__________________________________________________________________________________________________\n",
      "batch_normalization_7 (BatchNor (None, 64, 64, 64)   256         conv2d_18[0][0]                  \n",
      "__________________________________________________________________________________________________\n",
      "up_sampling2d_3 (UpSampling2D)  (None, 128, 128, 64) 0           batch_normalization_7[0][0]      \n",
      "__________________________________________________________________________________________________\n",
      "conv2d_19 (Conv2D)              (None, 128, 128, 32) 8224        up_sampling2d_3[0][0]            \n",
      "__________________________________________________________________________________________________\n",
      "concatenate_3 (Concatenate)     (None, 128, 128, 96) 0           conv2d_1[0][0]                   \n",
      "                                                                 conv2d_19[0][0]                  \n",
      "__________________________________________________________________________________________________\n",
      "conv2d_20 (Conv2D)              (None, 128, 128, 32) 27680       concatenate_3[0][0]              \n",
      "__________________________________________________________________________________________________\n",
      "flatten (Flatten)               (None, 32768)        0           max_pooling2d_3[0][0]            \n",
      "__________________________________________________________________________________________________\n",
      "conv2d_21 (Conv2D)              (None, 128, 128, 32) 9248        conv2d_20[0][0]                  \n",
      "__________________________________________________________________________________________________\n",
      "dense (Dense)                   (None, 300)          9830700     flatten[0][0]                    \n",
      "__________________________________________________________________________________________________\n",
      "conv2d_22 (Conv2D)              (None, 128, 128, 2)  578         conv2d_21[0][0]                  \n",
      "__________________________________________________________________________________________________\n",
      "classification (Dense)          (None, 2)            602         dense[0][0]                      \n",
      "__________________________________________________________________________________________________\n",
      "segmentation (Conv2D)           (None, 128, 128, 1)  3           conv2d_22[0][0]                  \n",
      "==================================================================================================\n",
      "Total params: 23,073,067\n",
      "Trainable params: 23,069,995\n",
      "Non-trainable params: 3,072\n",
      "__________________________________________________________________________________________________\n"
     ]
    }
   ],
   "source": [
    "model = Model(inputs = inputTensor,\n",
    "     outputs = [classification_output, segmentation_output])\n",
    "#      outputs = [segmentation_output])\n",
    "model.summary()"
   ]
  },
  {
   "cell_type": "code",
   "execution_count": null,
   "metadata": {
    "colab": {
     "base_uri": "https://localhost:8080/",
     "height": 1000
    },
    "executionInfo": {
     "elapsed": 3180,
     "status": "ok",
     "timestamp": 1624273358824,
     "user": {
      "displayName": "haniya fahad",
      "photoUrl": "",
      "userId": "07744268653047656261"
     },
     "user_tz": -300
    },
    "id": "ECINb3gRs_gi",
    "outputId": "6625f495-3339-4d4a-ef9c-f258d4b0d934",
    "scrolled": false
   },
   "outputs": [],
   "source": [
    "#from keras.utils.vis_utils import plot_model\n",
    "3plot_model(model, to_file='model_plot.png', show_shapes=True, show_layer_names=True)"
   ]
  },
  {
   "cell_type": "markdown",
   "metadata": {
    "id": "j_nPXez0s_gi"
   },
   "source": [
    "### Multi loss optimizations\n",
    "\n",
    "- mse for age and cross-entropy for gender\n",
    "- we can weight these individual losses\n",
    "- Loss = weight1 * loss1 + weight2 * loss2"
   ]
  },
  {
   "cell_type": "code",
   "execution_count": 16,
   "metadata": {},
   "outputs": [],
   "source": [
    "import tensorflow.keras\n",
    "\n",
    "#lr_schedule =tensorflow.keras.optimizers.schedules.ExponentialDecay(\n",
    "#                                                                    initial_learning_rate=0.001,\n",
    "#                                                                    decay_steps=10000,\n",
    " #                                                                   decay_rate=0.9,\n",
    " #                                                                   starircase = true)\n",
    "\n",
    "#redcue learning rate\n",
    "initial_learning_rate = 0.001\n",
    "lr_schedule = tf.keras.optimizers.schedules.ExponentialDecay(\n",
    "    initial_learning_rate,\n",
    "    decay_steps=100000,\n",
    "    decay_rate=0.96,\n",
    "    staircase=True)\n",
    "\n",
    "\n",
    "\n",
    " \n",
    "# checkpoint\n",
    "filepath=\"D:/maria/weights-improvement-{epoch:02d}-{val_segmentation_dice_coef:.2f}.hdf5\"\n",
    "checkpoint_cp = ModelCheckpoint(filepath, monitor='val_segmentation_dice_coef', verbose=1, save_best_only=True, mode='max')\n",
    "\n",
    "\n",
    "#opt = tensorflow.keras.optimizers.Adam(learning_rate=lr_schedule)\n",
    "opt = tensorflow.keras.optimizers.RMSprop()\n",
    "model.compile(optimizer=opt,\n",
    "              loss={'classification': 'categorical_crossentropy', 'segmentation': dice_coef_loss },\n",
    "              loss_weights={'classification': 0.001, 'segmentation': 0.1},\n",
    "              metrics=['accuracy', dice_coef])\n",
    "# model.compile(optimizer=opt,\n",
    "#               loss={'segmentation': dice_coef_loss },\n",
    "#               metrics=['accuracy', dice_coef])"
   ]
  },
  {
   "cell_type": "code",
   "execution_count": 17,
   "metadata": {},
   "outputs": [],
   "source": [
    "images_train,images_test, labels_train, labels_test,masks_train, masks_test = train_test_split(images,labels,masks, test_size=.2, \n",
    "                                                   random_state=222, \n",
    "                                                   shuffle=True, stratify=None)"
   ]
  },
  {
   "cell_type": "code",
   "execution_count": 18,
   "metadata": {},
   "outputs": [
    {
     "name": "stdout",
     "output_type": "stream",
     "text": [
      "(26040, 128, 128, 1)\n",
      "(6510, 128, 128, 1)\n",
      "(26040, 2)\n",
      "(6510, 2)\n",
      "(26040, 128, 128, 1)\n",
      "(6510, 128, 128, 1)\n"
     ]
    }
   ],
   "source": [
    "print(images_train.shape)\n",
    "print(images_test.shape)\n",
    "print(labels_train.shape)\n",
    "print(labels_test.shape)\n",
    "print(masks_train.shape)\n",
    "print(masks_test.shape)"
   ]
  },
  {
   "cell_type": "code",
   "execution_count": 19,
   "metadata": {},
   "outputs": [
    {
     "data": {
      "text/plain": [
       "<matplotlib.image.AxesImage at 0x22089978dc8>"
      ]
     },
     "execution_count": 19,
     "metadata": {},
     "output_type": "execute_result"
    },
    {
     "data": {
      "image/png": "[encoded data removed]",
      "text/plain": [
       "<Figure size 432x288 with 2 Axes>"
      ]
     },
     "metadata": {
      "needs_background": "light"
     },
     "output_type": "display_data"
    }
   ],
   "source": [
    "####################  not required ##################################\n",
    "\n",
    "import matplotlib.pyplot as plt\n",
    "img_index = 9\n",
    "plt.subplot(1,2,1)\n",
    "plt.imshow(images_train[img_index])\n",
    "plt.subplot(1,2,2)\n",
    "plt.imshow(masks_train[img_index])"
   ]
  },
  {
   "cell_type": "code",
   "execution_count": 20,
   "metadata": {},
   "outputs": [
    {
     "data": {
      "text/plain": [
       "array([[0., 1.],\n",
       "       [1., 0.],\n",
       "       [0., 1.],\n",
       "       [0., 1.],\n",
       "       [0., 1.],\n",
       "       [0., 1.],\n",
       "       [0., 1.],\n",
       "       [0., 1.],\n",
       "       [0., 1.],\n",
       "       [1., 0.],\n",
       "       [1., 0.],\n",
       "       [0., 1.],\n",
       "       [1., 0.],\n",
       "       [0., 1.],\n",
       "       [1., 0.],\n",
       "       [1., 0.],\n",
       "       [0., 1.],\n",
       "       [1., 0.],\n",
       "       [1., 0.],\n",
       "       [1., 0.]], dtype=float32)"
      ]
     },
     "execution_count": 20,
     "metadata": {},
     "output_type": "execute_result"
    }
   ],
   "source": [
    "labels_train[0:20]"
   ]
  },
  {
   "cell_type": "code",
   "execution_count": null,
   "metadata": {
    "id": "qMOF8O9as_gi",
    "scrolled": true
   },
   "outputs": [
    {
     "name": "stdout",
     "output_type": "stream",
     "text": [
      "Train on 26040 samples, validate on 6510 samples\n",
      "Epoch 1/100\n",
      "26016/26040 [============================>.] - ETA: 0s - loss: 0.0801 - classification_loss: 7.3173 - segmentation_loss: 0.7275 - classification_accuracy: 0.7258 - classification_dice_coef: 0.6913 - segmentation_accuracy: 0.9622 - segmentation_dice_coef: 0.2725\n",
      "Epoch 00001: val_segmentation_dice_coef improved from -inf to 0.35299, saving model to D:/maria/weights-improvement-01-0.35.hdf5\n",
      "26040/26040 [==============================] - 168s 6ms/sample - loss: 0.0800 - classification_loss: 7.3089 - segmentation_loss: 0.7270 - classification_accuracy: 0.7258 - classification_dice_coef: 0.6913 - segmentation_accuracy: 0.9622 - segmentation_dice_coef: 0.2730 - val_loss: 0.0653 - val_classification_loss: 0.5779 - val_segmentation_loss: 0.6470 - val_classification_accuracy: 0.7846 - val_classification_dice_coef: 0.7432 - val_segmentation_accuracy: 0.9145 - val_segmentation_dice_coef: 0.3530\n",
      "Epoch 2/100\n",
      "26016/26040 [============================>.] - ETA: 0s - loss: 0.0206 - classification_loss: 0.6496 - segmentation_loss: 0.1997 - classification_accuracy: 0.8025 - classification_dice_coef: 0.7795 - segmentation_accuracy: 0.9874 - segmentation_dice_coef: 0.8003\n",
      "Epoch 00002: val_segmentation_dice_coef improved from 0.35299 to 0.78803, saving model to D:/maria/weights-improvement-02-0.79.hdf5\n",
      "26040/26040 [==============================] - 155s 6ms/sample - loss: 0.0206 - classification_loss: 0.6492 - segmentation_loss: 0.1995 - classification_accuracy: 0.8026 - classification_dice_coef: 0.7796 - segmentation_accuracy: 0.9874 - segmentation_dice_coef: 0.8005 - val_loss: 0.0226 - val_classification_loss: 1.4046 - val_segmentation_loss: 0.2120 - val_classification_accuracy: 0.7395 - val_classification_dice_coef: 0.7437 - val_segmentation_accuracy: 0.9855 - val_segmentation_dice_coef: 0.7880\n",
      "Epoch 3/100\n",
      " 4544/26040 [====>.........................] - ETA: 1:58 - loss: 0.0169 - classification_loss: 0.3894 - segmentation_loss: 0.1651 - classification_accuracy: 0.8629 - classification_dice_coef: 0.8409 - segmentation_accuracy: 0.9888 - segmentation_dice_coef: 0.8349"
     ]
    }
   ],
   "source": [
    "\n",
    "try:\n",
    "    \n",
    "    history = model.fit({'input': images_train}, {'classification': labels_train, 'segmentation': masks_train},\n",
    "                        epochs=100, batch_size=32, verbose=1, validation_split=None,validation_data = [{'input': images_test}, {'classification': labels_test, 'segmentation': masks_test}] ,callbacks=[checkpoint_cp])   \n",
    "#     history = model.fit({'input': images_train}, { 'segmentation': masks_train},\n",
    "#                         epochs=10, batch_size=32, verbose=1, validation_split=None,validation_data = [{'input': images_test}, { 'segmentation': masks_test}] ,callbacks=[checkpoint_cp])   \n",
    "    \n",
    "except:\n",
    "  print(\"An exception occurred\")"
   ]
  },
  {
   "cell_type": "code",
   "execution_count": null,
   "metadata": {},
   "outputs": [],
   "source": [
    "model.save('Checked_RMSPROP_FIRST_OUT_model.h5')\n"
   ]
  },
  {
   "cell_type": "code",
   "execution_count": null,
   "metadata": {},
   "outputs": [],
   "source": [
    "test_data = images[351]"
   ]
  },
  {
   "cell_type": "code",
   "execution_count": null,
   "metadata": {},
   "outputs": [],
   "source": [
    "gt = labels[351]"
   ]
  },
  {
   "cell_type": "code",
   "execution_count": null,
   "metadata": {},
   "outputs": [],
   "source": [
    "gt"
   ]
  },
  {
   "cell_type": "code",
   "execution_count": null,
   "metadata": {},
   "outputs": [],
   "source": [
    "plt.imshow(test_data)"
   ]
  },
  {
   "cell_type": "code",
   "execution_count": null,
   "metadata": {},
   "outputs": [],
   "source": [
    "test_data.shape"
   ]
  },
  {
   "cell_type": "code",
   "execution_count": null,
   "metadata": {},
   "outputs": [],
   "source": [
    "#checkpoint_path = \"training_1/cp.ckpt\"\n",
    "#checkpoint_dir = os.path.dirname(checkpoint_path)\n",
    "\n",
    "#Create a callback that saves the model's weights\n",
    "#cp_callback = tf.keras.callbacks.ModelCheckpoint(filepath=checkpoint_path,\n",
    "                                                # save_weights_only=True,\n",
    "                                                 #verbose=1)\n",
    "p=test_data.reshape(1,128,128,1)\n",
    "prediction=model.predict(p)\n",
    "prediction"
   ]
  },
  {
   "cell_type": "code",
   "execution_count": null,
   "metadata": {},
   "outputs": [],
   "source": [
    "#!pip install tensorflow-estimator=2.1.0\n",
    "seg_predicted=prediction[1]\n",
    "_classes=seg_predicted.argmax(axis=-1)\n",
    "print('classes',_classes.shape)\n",
    "# _classes[_classes==3]=4\n",
    "_classes=_classes.astype('uint8')\n",
    "plt.imshow(_classes[0,:,:])\n"
   ]
  },
  {
   "cell_type": "code",
   "execution_count": null,
   "metadata": {},
   "outputs": [],
   "source": [
    "seg_predicted.dtype"
   ]
  },
  {
   "cell_type": "code",
   "execution_count": null,
   "metadata": {},
   "outputs": [],
   "source": [
    "plt.imshow(seg_predicted[0,:,:]*255,'gray')"
   ]
  },
  {
   "cell_type": "code",
   "execution_count": null,
   "metadata": {},
   "outputs": [],
   "source": [
    "converted = seg_predicted.astype(np.uint8)"
   ]
  },
  {
   "cell_type": "code",
   "execution_count": null,
   "metadata": {},
   "outputs": [],
   "source": [
    "converted = converted[0,:,:,0]*255"
   ]
  },
  {
   "cell_type": "code",
   "execution_count": null,
   "metadata": {},
   "outputs": [],
   "source": [
    "plt.imshow(converted)"
   ]
  },
  {
   "cell_type": "code",
   "execution_count": null,
   "metadata": {
    "colab": {
     "base_uri": "https://localhost:8080/",
     "height": 610
    },
    "id": "aALTmH2-5nXK",
    "outputId": "ceacd0a2-490d-4db5-f703-103b7c805027",
    "scrolled": false
   },
   "outputs": [],
   "source": [
    "import matplotlib.pyplot as plt\n",
    "# list all data in history\n",
    "print(history.history.keys())\n",
    "# summarize history for accuracy\n",
    "plt.plot(history.history['classification_accuracy'])\n",
    "plt.plot(history.history['val_classification_accuracy'])\n",
    "plt.title('Classification accuracy')\n",
    "plt.ylabel('accuracy')\n",
    "plt.xlabel('epoch')\n",
    "plt.legend(['train', 'test'], loc='upper left')\n",
    "plt.show()\n",
    "# summarize history for loss\n",
    "plt.plot(history.history['classification_loss'])\n",
    "plt.plot(history.history['val_classification_loss'])\n",
    "plt.title('Classification loss')\n",
    "plt.ylabel('loss')\n",
    "plt.xlabel('epoch')\n",
    "plt.legend(['train', 'test'], loc='upper left')\n",
    "plt.show()"
   ]
  },
  {
   "cell_type": "code",
   "execution_count": null,
   "metadata": {},
   "outputs": [],
   "source": [
    "# summarize history for segmentation accuracy\n",
    "plt.plot(history.history['segmentation_accuracy'])\n",
    "plt.plot(history.history['val_segmentation_accuracy'])\n",
    "plt.title('segmentation_accu')\n",
    "plt.ylabel('accuracy')\n",
    "plt.xlabel('epoch')\n",
    "plt.legend(['train', 'test'], loc='upper left')\n",
    "plt.show()\n",
    "# summarize history for Dice_loss\n",
    "plt.plot(history.history['segmentation_loss'])\n",
    "plt.plot(history.history['val_segmentation_loss'])\n",
    "plt.title('Dice loss')\n",
    "plt.ylabel('loss')\n",
    "plt.xlabel('epoch')\n",
    "plt.legend(['train', 'test'], loc='upper left')\n",
    "plt.show()"
   ]
  },
  {
   "cell_type": "code",
   "execution_count": null,
   "metadata": {
    "id": "j3FPY_0gJM7j"
   },
   "outputs": [],
   "source": [
    "print(history.history['val_segmentation_loss'])"
   ]
  },
  {
   "cell_type": "code",
   "execution_count": null,
   "metadata": {
    "id": "vAFB3WWls_gk"
   },
   "outputs": [],
   "source": [
    "masks_images.shape"
   ]
  },
  {
   "cell_type": "code",
   "execution_count": null,
   "metadata": {
    "id": "BsKpxJ-4Jsib"
   },
   "outputs": [],
   "source": [
    "images.shape"
   ]
  },
  {
   "cell_type": "code",
   "execution_count": null,
   "metadata": {
    "id": "WpzV6kiyJtRt"
   },
   "outputs": [],
   "source": []
  }
 ],
 "metadata": {
  "accelerator": "GPU",
  "colab": {
   "collapsed_sections": [],
   "name": "NEW_Copy_of_classification_segmentation_multitask (3).ipynb",
   "provenance": []
  },
  "kernelspec": {
   "display_name": "Python 3",
   "language": "python",
   "name": "python3"
  },
  "language_info": {
   "codemirror_mode": {
    "name": "ipython",
    "version": 3
   },
   "file_extension": ".py",
   "mimetype": "text/x-python",
   "name": "python",
   "nbconvert_exporter": "python",
   "pygments_lexer": "ipython3",
   "version": "3.7.10"
  }
 },
 "nbformat": 4,
 "nbformat_minor": 1
}
