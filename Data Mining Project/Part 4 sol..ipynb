{
 "cells": [
  {
   "cell_type": "code",
   "execution_count": 1,
   "metadata": {},
   "outputs": [],
   "source": [
    "#Q7: How many words are there with length 10 in FirstInputFile?"
   ]
  },
  {
   "cell_type": "code",
   "execution_count": 2,
   "metadata": {},
   "outputs": [
    {
     "name": "stdout",
     "output_type": "stream",
     "text": [
      "1867\n"
     ]
    }
   ],
   "source": [
    "def sp_len(filename):\n",
    "    with open(filename, 'r') as infile:\n",
    "              words = infile.read().split()\n",
    "            \n",
    "       \n",
    "    return len([word for word in words if len(word) == 10])\n",
    "\n",
    "print(sp_len('input1.txt'))"
   ]
  },
  {
   "cell_type": "code",
   "execution_count": 3,
   "metadata": {},
   "outputs": [],
   "source": [
    "#Q8: How many words are there with length 4 in FirstInputFile?"
   ]
  },
  {
   "cell_type": "code",
   "execution_count": 4,
   "metadata": {},
   "outputs": [
    {
     "name": "stdout",
     "output_type": "stream",
     "text": [
      "20439\n"
     ]
    }
   ],
   "source": [
    "def sp_len(filename):\n",
    "    with open(filename, 'r') as infile:\n",
    "              words = infile.read().split()\n",
    "            \n",
    "       \n",
    "    return len([word for word in words if len(word) == 4])\n",
    "\n",
    "print(sp_len('input1.txt'))"
   ]
  },
  {
   "cell_type": "code",
   "execution_count": 5,
   "metadata": {},
   "outputs": [],
   "source": [
    "#Q9: What is the most frequent length and what is its frequency in FirstInputFile?"
   ]
  },
  {
   "cell_type": "code",
   "execution_count": 6,
   "metadata": {},
   "outputs": [
    {
     "name": "stdout",
     "output_type": "stream",
     "text": [
      "[('the', 2306)]\n"
     ]
    }
   ],
   "source": [
    "\n",
    "from collections import Counter \n",
    "\n",
    "with open('input1.txt', 'r') as file:\n",
    "    data_set = file.read().replace('\\n', '')\n",
    "\n",
    "split_it = data_set.split() \n",
    "\n",
    "\n",
    "Counter = Counter(split_it) \n",
    "\n",
    " \n",
    "most_occur = Counter.most_common(1) \n",
    "\n",
    "print(most_occur) "
   ]
  },
  {
   "cell_type": "code",
   "execution_count": 7,
   "metadata": {},
   "outputs": [],
   "source": [
    "#Q10: How many  words are there  with length  5 in SecondInputFile?"
   ]
  },
  {
   "cell_type": "code",
   "execution_count": 8,
   "metadata": {},
   "outputs": [
    {
     "name": "stdout",
     "output_type": "stream",
     "text": [
      "1699\n"
     ]
    }
   ],
   "source": [
    "def sp_len(filename):\n",
    "    with open(filename, 'r') as infile:\n",
    "              words = infile.read().split()\n",
    "            \n",
    "       \n",
    "    return len([word for word in words if len(word) == 5])\n",
    "\n",
    "print(sp_len('input2.txt'))"
   ]
  },
  {
   "cell_type": "code",
   "execution_count": 9,
   "metadata": {},
   "outputs": [],
   "source": [
    "#Q11: How many  words are there  with length  2 in SecondInputFile?"
   ]
  },
  {
   "cell_type": "code",
   "execution_count": 10,
   "metadata": {},
   "outputs": [
    {
     "name": "stdout",
     "output_type": "stream",
     "text": [
      "2837\n"
     ]
    }
   ],
   "source": [
    "def sp_len(filename):\n",
    "    with open(filename, 'r') as infile:\n",
    "              words = infile.read().split()\n",
    "            \n",
    "       \n",
    "    return len([word for word in words if len(word) == 2])\n",
    "\n",
    "print(sp_len('input2.txt'))"
   ]
  },
  {
   "cell_type": "code",
   "execution_count": 11,
   "metadata": {},
   "outputs": [],
   "source": [
    "#What  is the  second-most  frequent length  and  what  is its frequency in SecondInputFile?"
   ]
  },
  {
   "cell_type": "code",
   "execution_count": 12,
   "metadata": {},
   "outputs": [
    {
     "name": "stdout",
     "output_type": "stream",
     "text": [
      "[('the', 650), ('of', 458)]\n"
     ]
    }
   ],
   "source": [
    "from collections import Counter \n",
    "\n",
    "with open('input2.txt', 'r') as file:\n",
    "    data_set = file.read().replace('\\n', '')\n",
    "\n",
    "split_it = data_set.split() \n",
    "\n",
    "\n",
    "Counter = Counter(split_it) \n",
    "\n",
    " \n",
    "most_occur = Counter.most_common(2) \n",
    "\n",
    "print(most_occur) "
   ]
  },
  {
   "cell_type": "code",
   "execution_count": null,
   "metadata": {},
   "outputs": [],
   "source": []
  }
 ],
 "metadata": {
  "kernelspec": {
   "display_name": "Python 3",
   "language": "python",
   "name": "python3"
  },
  "language_info": {
   "codemirror_mode": {
    "name": "ipython",
    "version": 3
   },
   "file_extension": ".py",
   "mimetype": "text/x-python",
   "name": "python",
   "nbconvert_exporter": "python",
   "pygments_lexer": "ipython3",
   "version": "3.7.3"
  }
 },
 "nbformat": 4,
 "nbformat_minor": 2
}
