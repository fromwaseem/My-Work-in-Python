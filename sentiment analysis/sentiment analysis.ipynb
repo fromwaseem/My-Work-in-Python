{
 "cells": [
  {
   "cell_type": "code",
   "execution_count": 2,
   "id": "df1db2c7",
   "metadata": {},
   "outputs": [],
   "source": [
    "import numpy as np\n",
    "import pandas as pd\n",
    "import matplotlib.pyplot as plt\n",
    "from sklearn.metrics import confusion_matrix\n",
    "import string\n",
    "from nltk.stem import SnowballStemmer\n",
    "from nltk.corpus import stopwords\n",
    "from sklearn.feature_extraction.text import TfidfVectorizer\n",
    "from sklearn.model_selection import train_test_split\n",
    "import os\n",
    "from textblob import TextBlob\n",
    "from nltk.stem import PorterStemmer\n",
    "from textblob import Word\n",
    "from sklearn.feature_extraction.text import CountVectorizer,TfidfVectorizer\n",
    "import sklearn.feature_extraction.text as text\n",
    "from sklearn import model_selection, preprocessing,linear_model, naive_bayes, metrics, svm\n",
    "from sklearn.naive_bayes import MultinomialNB\n",
    "from sklearn.linear_model import LogisticRegression\n",
    "from sklearn.ensemble import RandomForestClassifier\n",
    "from sklearn.svm import LinearSVC\n",
    "from sklearn.model_selection import cross_val_score\n",
    "from io import StringIO\n",
    "import seaborn as sns\n",
    "from tqdm import tqdm"
   ]
  },
  {
   "cell_type": "code",
   "execution_count": 14,
   "id": "773d2ee3",
   "metadata": {},
   "outputs": [
    {
     "data": {
      "text/html": [
       "<div>\n",
       "<style scoped>\n",
       "    .dataframe tbody tr th:only-of-type {\n",
       "        vertical-align: middle;\n",
       "    }\n",
       "\n",
       "    .dataframe tbody tr th {\n",
       "        vertical-align: top;\n",
       "    }\n",
       "\n",
       "    .dataframe thead th {\n",
       "        text-align: right;\n",
       "    }\n",
       "</style>\n",
       "<table border=\"1\" class=\"dataframe\">\n",
       "  <thead>\n",
       "    <tr style=\"text-align: right;\">\n",
       "      <th></th>\n",
       "      <th>page</th>\n",
       "      <th>comment</th>\n",
       "      <th>scale</th>\n",
       "    </tr>\n",
       "  </thead>\n",
       "  <tbody>\n",
       "    <tr>\n",
       "      <th>0</th>\n",
       "      <td>Page_1</td>\n",
       "      <td>tento areal je v katastrofalnom stave aspon 10...</td>\n",
       "      <td>-2</td>\n",
       "    </tr>\n",
       "    <tr>\n",
       "      <th>1</th>\n",
       "      <td>Page_1</td>\n",
       "      <td>skoda len ze ponukaju aj stale tie iste a rovn...</td>\n",
       "      <td>-2</td>\n",
       "    </tr>\n",
       "    <tr>\n",
       "      <th>2</th>\n",
       "      <td>Page_1</td>\n",
       "      <td>Mali by ste dat tabulky \"VSTUP DO BRATISLAVY N...</td>\n",
       "      <td>-2</td>\n",
       "    </tr>\n",
       "    <tr>\n",
       "      <th>3</th>\n",
       "      <td>Page_1</td>\n",
       "      <td>Za to, ako dlho sa to stavia, tam mala byt pos...</td>\n",
       "      <td>-2</td>\n",
       "    </tr>\n",
       "    <tr>\n",
       "      <th>4</th>\n",
       "      <td>Page_1</td>\n",
       "      <td>A kde je preboha nejaká zeleň ?????? 😞😞😕☹️☹️☹️...</td>\n",
       "      <td>-2</td>\n",
       "    </tr>\n",
       "  </tbody>\n",
       "</table>\n",
       "</div>"
      ],
      "text/plain": [
       "     page                                            comment  scale\n",
       "0  Page_1  tento areal je v katastrofalnom stave aspon 10...     -2\n",
       "1  Page_1  skoda len ze ponukaju aj stale tie iste a rovn...     -2\n",
       "2  Page_1  Mali by ste dat tabulky \"VSTUP DO BRATISLAVY N...     -2\n",
       "3  Page_1  Za to, ako dlho sa to stavia, tam mala byt pos...     -2\n",
       "4  Page_1  A kde je preboha nejaká zeleň ?????? 😞😞😕☹️☹️☹️...     -2"
      ]
     },
     "execution_count": 14,
     "metadata": {},
     "output_type": "execute_result"
    }
   ],
   "source": [
    "dataset = pd.read_csv(\"dataset.csv\")\n",
    "dataset.head()"
   ]
  },
  {
   "cell_type": "code",
   "execution_count": 29,
   "id": "ed3be854",
   "metadata": {},
   "outputs": [
    {
     "data": {
      "text/plain": [
       "(1588, 3)"
      ]
     },
     "execution_count": 29,
     "metadata": {},
     "output_type": "execute_result"
    }
   ],
   "source": [
    "dataset.shape"
   ]
  },
  {
   "cell_type": "code",
   "execution_count": 33,
   "id": "dde6f4ac",
   "metadata": {},
   "outputs": [
    {
     "data": {
      "text/html": [
       "<div>\n",
       "<style scoped>\n",
       "    .dataframe tbody tr th:only-of-type {\n",
       "        vertical-align: middle;\n",
       "    }\n",
       "\n",
       "    .dataframe tbody tr th {\n",
       "        vertical-align: top;\n",
       "    }\n",
       "\n",
       "    .dataframe thead th {\n",
       "        text-align: right;\n",
       "    }\n",
       "</style>\n",
       "<table border=\"1\" class=\"dataframe\">\n",
       "  <thead>\n",
       "    <tr style=\"text-align: right;\">\n",
       "      <th></th>\n",
       "      <th>comment</th>\n",
       "      <th>scale</th>\n",
       "    </tr>\n",
       "  </thead>\n",
       "  <tbody>\n",
       "    <tr>\n",
       "      <th>0</th>\n",
       "      <td>tento areal je v katastrofalnom stave aspon 10...</td>\n",
       "      <td>-2</td>\n",
       "    </tr>\n",
       "    <tr>\n",
       "      <th>1</th>\n",
       "      <td>skoda len ze ponukaju aj stale tie iste a rovn...</td>\n",
       "      <td>-2</td>\n",
       "    </tr>\n",
       "    <tr>\n",
       "      <th>2</th>\n",
       "      <td>Mali by ste dat tabulky \"VSTUP DO BRATISLAVY N...</td>\n",
       "      <td>-2</td>\n",
       "    </tr>\n",
       "    <tr>\n",
       "      <th>3</th>\n",
       "      <td>Za to, ako dlho sa to stavia, tam mala byt pos...</td>\n",
       "      <td>-2</td>\n",
       "    </tr>\n",
       "    <tr>\n",
       "      <th>4</th>\n",
       "      <td>A kde je preboha nejaká zeleň ?????? 😞😞😕☹️☹️☹️...</td>\n",
       "      <td>-2</td>\n",
       "    </tr>\n",
       "  </tbody>\n",
       "</table>\n",
       "</div>"
      ],
      "text/plain": [
       "                                             comment  scale\n",
       "0  tento areal je v katastrofalnom stave aspon 10...     -2\n",
       "1  skoda len ze ponukaju aj stale tie iste a rovn...     -2\n",
       "2  Mali by ste dat tabulky \"VSTUP DO BRATISLAVY N...     -2\n",
       "3  Za to, ako dlho sa to stavia, tam mala byt pos...     -2\n",
       "4  A kde je preboha nejaká zeleň ?????? 😞😞😕☹️☹️☹️...     -2"
      ]
     },
     "execution_count": 33,
     "metadata": {},
     "output_type": "execute_result"
    }
   ],
   "source": [
    "dataset.head()"
   ]
  },
  {
   "cell_type": "code",
   "execution_count": 31,
   "id": "4c0499ec",
   "metadata": {},
   "outputs": [],
   "source": [
    "dataset.drop('page', inplace=True, axis=1)"
   ]
  },
  {
   "cell_type": "code",
   "execution_count": 32,
   "id": "6665b52a",
   "metadata": {},
   "outputs": [
    {
     "data": {
      "text/plain": [
       "(1588, 2)"
      ]
     },
     "execution_count": 32,
     "metadata": {},
     "output_type": "execute_result"
    }
   ],
   "source": [
    "dataset.shape"
   ]
  },
  {
   "cell_type": "code",
   "execution_count": 34,
   "id": "49ea87a6",
   "metadata": {},
   "outputs": [
    {
     "data": {
      "text/plain": [
       "Text(0, 0.5, 'Number of data rows')"
      ]
     },
     "execution_count": 34,
     "metadata": {},
     "output_type": "execute_result"
    },
    {
     "data": {
      "image/png": "[encoded data removed]",
      "text/plain": [
       "<Figure size 432x288 with 1 Axes>"
      ]
     },
     "metadata": {
      "needs_background": "light"
     },
     "output_type": "display_data"
    }
   ],
   "source": [
    "# plotting histogram of scores\n",
    "dataset['scale'].hist()\n",
    "plt.title(\"Histogram of Scores in original data\")\n",
    "plt.xlabel(\"scale\")\n",
    "plt.ylabel(\"Number of data rows\")"
   ]
  },
  {
   "cell_type": "code",
   "execution_count": 35,
   "id": "cf1a095d",
   "metadata": {},
   "outputs": [
    {
     "data": {
      "text/html": [
       "<div>\n",
       "<style scoped>\n",
       "    .dataframe tbody tr th:only-of-type {\n",
       "        vertical-align: middle;\n",
       "    }\n",
       "\n",
       "    .dataframe tbody tr th {\n",
       "        vertical-align: top;\n",
       "    }\n",
       "\n",
       "    .dataframe thead th {\n",
       "        text-align: right;\n",
       "    }\n",
       "</style>\n",
       "<table border=\"1\" class=\"dataframe\">\n",
       "  <thead>\n",
       "    <tr style=\"text-align: right;\">\n",
       "      <th></th>\n",
       "      <th># of missing values</th>\n",
       "    </tr>\n",
       "  </thead>\n",
       "  <tbody>\n",
       "    <tr>\n",
       "      <th>comment</th>\n",
       "      <td>0</td>\n",
       "    </tr>\n",
       "    <tr>\n",
       "      <th>scale</th>\n",
       "      <td>0</td>\n",
       "    </tr>\n",
       "  </tbody>\n",
       "</table>\n",
       "</div>"
      ],
      "text/plain": [
       "         # of missing values\n",
       "comment                    0\n",
       "scale                      0"
      ]
     },
     "execution_count": 35,
     "metadata": {},
     "output_type": "execute_result"
    }
   ],
   "source": [
    "# Check null values\n",
    "dataset.isna().sum().to_frame(name='# of missing values')"
   ]
  },
  {
   "cell_type": "code",
   "execution_count": 36,
   "id": "ea5098f8",
   "metadata": {},
   "outputs": [
    {
     "name": "stdout",
     "output_type": "stream",
     "text": [
      "No. of rows removed : 0\n",
      "\n",
      "Percentage of data removed:0.0%\n",
      "Percentage of data remaining:100.0%\n"
     ]
    }
   ],
   "source": [
    "#Remove rows which are having null values\n",
    "total_rows =  dataset.shape[0]\n",
    "dataset.dropna(how='any',inplace=True)\n",
    "remaining_rows= dataset.shape[0]\n",
    "\n",
    "removed_rows = total_rows-remaining_rows\n",
    "print(\"No. of rows removed :\", removed_rows)\n",
    "\n",
    "print(f\"\\nPercentage of data removed:{np.round((removed_rows/total_rows)*100,2)}%\")\n",
    "print(f\"Percentage of data remaining:{np.round((remaining_rows/total_rows)*100,2)}%\")"
   ]
  },
  {
   "cell_type": "code",
   "execution_count": 37,
   "id": "675adbac",
   "metadata": {},
   "outputs": [
    {
     "name": "stdout",
     "output_type": "stream",
     "text": [
      "No. of rows removed : 3\n",
      "\n",
      "Percentage of data removed: 0.19%\n",
      "Percentage of data remaining: 99.81%\n"
     ]
    }
   ],
   "source": [
    "#Remove duplicate rows\n",
    "a =  dataset.shape[0]\n",
    "dataset.drop_duplicates(inplace=True, subset=['comment','scale'])\n",
    "b = dataset.shape[0]\n",
    "\n",
    "print(\"No. of rows removed :\", a-b)\n",
    "\n",
    "print(f\"\\nPercentage of data removed: {np.round(((a-b)/total_rows)*100,2)}%\")\n",
    "print(f\"Percentage of data remaining: {np.round((b/total_rows)*100,2)}%\")"
   ]
  },
  {
   "cell_type": "code",
   "execution_count": 41,
   "id": "0508a6ec",
   "metadata": {},
   "outputs": [],
   "source": [
    "#Create target column using Score\n",
    "df=dataset.replace({'scale' : { -2:0,-1:1,0:2,1:3,2:4 }})"
   ]
  },
  {
   "cell_type": "code",
   "execution_count": 43,
   "id": "bbca7921",
   "metadata": {},
   "outputs": [
    {
     "data": {
      "image/png": "[encoded data removed]",
      "text/plain": [
       "<Figure size 1152x432 with 1 Axes>"
      ]
     },
     "metadata": {
      "needs_background": "light"
     },
     "output_type": "display_data"
    }
   ],
   "source": [
    "#Handling class imbalance\n",
    "fig, ax = plt.subplots(figsize=(16, 6))\n",
    "\n",
    "vc = df.scale.value_counts()\n",
    "vc.plot.barh(color=\"blue\",fontsize=14,ax=ax)\n",
    "ax.set_title(\"Label vs Count\", fontsize=15)\n",
    "plt.show()\n",
    "    "
   ]
  },
  {
   "cell_type": "code",
   "execution_count": 52,
   "id": "8104449e",
   "metadata": {},
   "outputs": [],
   "source": [
    "vneg = df.loc[df.scale==0] .sample(220)\n",
    "neg = df.loc[df.scale==1] .sample(300)\n",
    "neu = df.loc[df.scale==2] .sample(300)\n",
    "pos = df.loc[df.scale==3] .sample(250)\n",
    "vpos = df.loc[df.scale==4] .sample(250)\n",
    "\n",
    "\n",
    "df = pd.concat([vneg, neg, neu,pos,vpos])\n"
   ]
  },
  {
   "cell_type": "code",
   "execution_count": 53,
   "id": "33474fd9",
   "metadata": {},
   "outputs": [
    {
     "data": {
      "image/png": "[encoded data removed]",
      "text/plain": [
       "<Figure size 1152x432 with 1 Axes>"
      ]
     },
     "metadata": {
      "needs_background": "light"
     },
     "output_type": "display_data"
    }
   ],
   "source": [
    "#Scale distribution (after)\n",
    "fig, ax = plt.subplots(figsize=(16, 6))\n",
    "\n",
    "vc = df.scale.value_counts()\n",
    "vc.plot.barh(color=\"blue\",fontsize=14,ax=ax)\n",
    "ax.set_title(\"Label vs Count\", fontsize=15)\n",
    "plt.show()"
   ]
  },
  {
   "cell_type": "code",
   "execution_count": 55,
   "id": "2c993bd5",
   "metadata": {},
   "outputs": [
    {
     "name": "stdout",
     "output_type": "stream",
     "text": [
      "{'tak', 'tu', 'ani', 'my', 'vám', 'kto', 'tomto', 'a', 'jej', 'môže', 'preto', 'budeš', 'ďalší', 'do', 'aj', 'podľa', 'váš', 'tiež', 'boli', 'mnou', 'pýta', 'tohoto', 'of', 'one', 'pre', 'prvé', 'bude', 'takže', 'predo', 'môcť', 'oni', 'práve', 'vy', 'za', 'bol', 'každí', 'vo', 'cez', 'iba', 'ho', 'si', 'z', 'bola', 'tomuto', 'po', 'môj', 'než', 'for', 'nám', 'budú', 'lebo', 'mna', 'naši', 'ďalšie', 'keď', 'asi', 'ďalšia', 'kde', 'svojím', 'and', 'byť', 'nech', 'zo', 'svojich', 'on', 'pred', 'na', 's', 'ich', 'svojími', 'ale', 'je', 'len', 'sa', 'prvá', 'každý', 'náš', 'by', 'tento', 'toto', 'to', 'že', 'ty', 'ma', 'prví', 'tú', 'sme', 'všetok', 'nad', 'nový', 'noví', 'od', 'potom', 'teda', 'týmto', 'bez', 'pokiaľ', 'túto', 'musieť', 'pri', 'však', 'má', 'ktorou', 'mne', 'alebo', 'bolo', 'ja', 'svoje', 'odo', 'the', 'vaše', 'každá', 'ako', 'jeho', 'te', 'tě', 'ona', 'tom', 'každé', 'sú', 'tieto', 'máte', 'tvojími', 'mať', 'viac', 'ktorá', 'iné', 'áno', 'v', 'budem', 'budeme', 'o', 'ku', 'svoj', 'ak', 'ono', 'ta', 'so', 'toho', 'tvoj', 'i', 'iný', 'prvý', 'ony', 'ešte', 'som', 'mi', 'k', 'dnes', 'už', 'pod', 'ktorí', 'medzi', 'až', 'budete', 'tým', 'pretože', 'ktoré', 'aby', 'nová', 'nové', 'ktorý', 'ten', 'táto', 'kam'}\n"
     ]
    }
   ],
   "source": [
    "#Data Pre-processing\n",
    "#Stop words\n",
    "# stopwords\n",
    "total_stopwords = set(stopwords.words('slovak'))\n",
    "\n",
    "# subtract negative stop words like no, not, don't etc.. from total_stopwords\n",
    "negative_stop_words = set(word for word in total_stopwords \n",
    "                          if \"nie\" in word or 'č' in word)\n",
    "\n",
    "final_stopwords = total_stopwords - negative_stop_words\n",
    "\n",
    "# \n",
    "final_stopwords.add(\"one\")\n",
    "print(final_stopwords)"
   ]
  },
  {
   "cell_type": "code",
   "execution_count": null,
   "id": "fc914287",
   "metadata": {},
   "outputs": [],
   "source": [
    "#Remove unwanted words from comment\n"
   ]
  }
 ],
 "metadata": {
  "kernelspec": {
   "display_name": "Python 3 (ipykernel)",
   "language": "python",
   "name": "python3"
  },
  "language_info": {
   "codemirror_mode": {
    "name": "ipython",
    "version": 3
   },
   "file_extension": ".py",
   "mimetype": "text/x-python",
   "name": "python",
   "nbconvert_exporter": "python",
   "pygments_lexer": "ipython3",
   "version": "3.9.7"
  }
 },
 "nbformat": 4,
 "nbformat_minor": 5
}
