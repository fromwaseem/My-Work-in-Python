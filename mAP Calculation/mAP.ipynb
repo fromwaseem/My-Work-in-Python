{
 "cells": [
  {
   "cell_type": "code",
   "execution_count": null,
   "metadata": {},
   "outputs": [],
   "source": [
    "import pandas as pd\n",
    "import numpy as np\n",
    "import cv2"
   ]
  },
  {
   "cell_type": "code",
   "execution_count": null,
   "metadata": {},
   "outputs": [],
   "source": [
    "# reading csv files\n",
    "data = pd.read_csv('ground_truth.csv')\n",
    "preds = pd.read_csv('predicted.csv')\n"
   ]
  },
  {
   "cell_type": "code",
   "execution_count": null,
   "metadata": {},
   "outputs": [],
   "source": [
    "# merging predicted coordinates with the orignal dataframe\n",
    "data['xmin_pred'] = preds.xmin\n",
    "data['ymin_pred'] = preds.ymin\n",
    "data['xmax_pred'] = preds.xmax\n",
    "data['ymax_pred'] = preds.ymax"
   ]
  },
  {
   "cell_type": "code",
   "execution_count": null,
   "metadata": {},
   "outputs": [],
   "source": [
    "def IOU(df):\n",
    "    # determining the minimum and maximum -coordinates of the intersection rectangle\n",
    "    xmin_inter = max(df.xmin, df.xmin_pred)\n",
    "    ymin_inter = max(df.ymin, df.ymin_pred)\n",
    "    xmax_inter = min(df.xmax, df.xmax_pred)\n",
    "    ymax_inter = min(df.ymax, df.ymax_pred)\n",
    " \n",
    "    # calculate area of intersection rectangle\n",
    "    inter_area = max(0, xmax_inter - xmin_inter + 1) * max(0, ymax_inter - ymin_inter + 1)\n",
    " \n",
    "    # calculate area of actual and predicted boxes\n",
    "    actual_area = (df.xmax - df.xmin + 1) * (df.ymax - df.ymin + 1)\n",
    "    pred_area = (df.xmax_pred - df.xmin_pred + 1) * (df.ymax_pred - df.ymin_pred+ 1)\n",
    " \n",
    "    # computing intersection over union\n",
    "    iou = inter_area / float(actual_area + pred_area - inter_area)\n",
    " \n",
    "    # return the intersection over union value\n",
    "    return iou"
   ]
  },
  {
   "cell_type": "code",
   "execution_count": null,
   "metadata": {},
   "outputs": [],
   "source": [
    "# creating a evaluation table\n",
    "eval_table = pd.DataFrame()\n",
    "eval_table['image_name'] = data.image_name\n",
    "\n",
    "#applying IOU function over each image in the dataframe\n",
    "eval_table['IOU'] = data.apply(IOU, axis = 1)"
   ]
  },
  {
   "cell_type": "code",
   "execution_count": null,
   "metadata": {},
   "outputs": [],
   "source": [
    "# creating column 'TP/FP' which will store TP for True positive and FP for False positive\n",
    "# if IOU is greater than 0.5 then TP else FP\n",
    "eval_table['TP/FP'] = eval_table['IOU'].apply(lambda x: 'TP' if x>=0.5 else 'FP')"
   ]
  },
  {
   "cell_type": "code",
   "execution_count": null,
   "metadata": {},
   "outputs": [],
   "source": [
    "# calculating Precision and recall\n",
    "\n",
    "Precision = []\n",
    "Recall = []\n",
    "\n",
    "TP = FP = 0\n",
    "FN = len(eval_table['TP/FP']== 'TP')\n",
    "for index , row in eval_table.iterrows():     \n",
    "    \n",
    "    if row.IOU > 0.5:\n",
    "        TP =TP+1\n",
    "    else:\n",
    "        FP =FP+1    \n",
    "    \n",
    "\n",
    "    try:\n",
    "        \n",
    "        AP = TP/(TP+FP)\n",
    "        Rec = TP/(TP+FN)\n",
    "    except ZeroDivisionError:\n",
    "        \n",
    "        AP = Recall = 0.0\n",
    "    \n",
    "    Precision.append(AP)\n",
    "    Recall.append(Rec)\n",
    "\n",
    "\n",
    "eval_table['Precision'] = Precision\n",
    "eval_table['Recall'] = Recall"
   ]
  },
  {
   "cell_type": "code",
   "execution_count": null,
   "metadata": {},
   "outputs": [],
   "source": [
    "#calculating Interpolated Precision\n",
    "eval_table['IP'] = eval_table.groupby('Recall')['Precision'].transform('max')"
   ]
  },
  {
   "cell_type": "code",
   "execution_count": null,
   "metadata": {},
   "outputs": [],
   "source": [
    "prec_at_rec = []\n",
    "\n",
    "for recall_level in np.linspace(0.0, 1.0, 11):\n",
    "    try:\n",
    "        x = eval_table[eval_table['Recall'] >= recall_level]['Precision']\n",
    "        prec = max(x)\n",
    "    except:\n",
    "        prec = 0.0\n",
    "    prec_at_rec.append(prec)\n",
    "avg_prec = np.mean(prec_at_rec)\n",
    "print('11 point precision is ', prec_at_rec)\n",
    "print('mAP is ', avg_prec)"
   ]
  },
  {
   "cell_type": "code",
   "execution_count": null,
   "metadata": {},
   "outputs": [],
   "source": [
    "import pandas as pd\n",
    "import numpy as np\n",
    "import cv2\n",
    "\n",
    "\n",
    "data = pd.read_csv('ground_truth.csv')\n",
    "preds = pd.read_csv('predicted.csv')\n",
    "\n",
    "\n",
    "data['xmin_pred'] = preds.xmin\n",
    "data['ymin_pred'] = preds.ymin\n",
    "data['xmax_pred'] = preds.xmax\n",
    "data['ymax_pred'] = preds.ymax\n",
    "\n",
    "\n",
    "\n",
    "def IOU(df):\n",
    "    # determining the minimum and maximum -coordinates of the intersection rectangle\n",
    "    xmin_inter = max(df.xmin, df.xmin_pred)\n",
    "    ymin_inter = max(df.ymin, df.ymin_pred)\n",
    "    xmax_inter = min(df.xmax, df.xmax_pred)\n",
    "    ymax_inter = min(df.ymax, df.ymax_pred)\n",
    " \n",
    "    # calculate area of intersection rectangle\n",
    "    inter_area = max(0, xmax_inter - xmin_inter + 1) * max(0, ymax_inter - ymin_inter + 1)\n",
    " \n",
    "    # calculate area of actual and predicted boxes\n",
    "    actual_area = (df.xmax - df.xmin + 1) * (df.ymax - df.ymin + 1)\n",
    "    pred_area = (df.xmax_pred - df.xmin_pred + 1) * (df.ymax_pred - df.ymin_pred+ 1)\n",
    " \n",
    "    # computing intersection over union\n",
    "    iou = inter_area / float(actual_area + pred_area - inter_area)\n",
    " \n",
    "    # return the intersection over union value\n",
    "    return iou\n",
    "\n",
    "\n",
    "# creating a evaluation table\n",
    "eval_table = pd.DataFrame()\n",
    "eval_table['image_name'] = data.image_name\n",
    "\n",
    "#applying IOU function over each image in the dataframe\n",
    "eval_table['IOU'] = data.apply(IOU, axis = 1)\n",
    "\n",
    "# creating column 'TP/FP' which will store TP for True positive and FP for False positive\n",
    "# if IOU is greater than 0.5 then TP else FP\n",
    "eval_table['TP/FP'] = eval_table['IOU'].apply(lambda x: 'TP' if x>=0.5 else 'FP')\n",
    "\n",
    "\n",
    "# calculating Precision and recall\n",
    "\n",
    "Precision = []\n",
    "Recall = []\n",
    "\n",
    "TP = FP = 0\n",
    "FN = len(eval_table['TP/FP']== 'TP')\n",
    "for index , row in eval_table.iterrows():     \n",
    "    \n",
    "    if row.IOU > 0.5:\n",
    "        TP =TP+1\n",
    "    else:\n",
    "        FP =FP+1    \n",
    "    \n",
    "\n",
    "    try:\n",
    "        \n",
    "        AP = TP/(TP+FP)\n",
    "        Rec = TP/(TP+FN)\n",
    "    except ZeroDivisionError:\n",
    "        \n",
    "        AP = Recall = 0.0\n",
    "    \n",
    "    Precision.append(AP)\n",
    "    Recall.append(Rec)\n",
    "\n",
    "\n",
    "eval_table['Precision'] = Precision\n",
    "eval_table['Recall'] = Recall\n",
    "#calculating Interpolated Precision\n",
    "eval_table['IP'] = eval_table.groupby('Recall')['Precision'].transform('max')"
   ]
  },
  {
   "cell_type": "code",
   "execution_count": null,
   "metadata": {},
   "outputs": [],
   "source": []
  }
 ],
 "metadata": {
  "kernelspec": {
   "display_name": "Python 3",
   "language": "python",
   "name": "python3"
  },
  "language_info": {
   "codemirror_mode": {
    "name": "ipython",
    "version": 3
   },
   "file_extension": ".py",
   "mimetype": "text/x-python",
   "name": "python",
   "nbconvert_exporter": "python",
   "pygments_lexer": "ipython3",
   "version": "3.7.3"
  }
 },
 "nbformat": 4,
 "nbformat_minor": 2
}
