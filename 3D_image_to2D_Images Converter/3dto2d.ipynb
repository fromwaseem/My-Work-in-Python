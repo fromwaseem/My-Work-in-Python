{
 "cells": [
  {
   "cell_type": "code",
   "execution_count": 13,
   "metadata": {
    "id": "c0G48dPnALz4"
   },
   "outputs": [],
   "source": [
    "import os, glob\n",
    "import numpy as np\n",
    "import nibabel as nib\n",
    "import matplotlib.pyplot as plt\n",
    "import cv2"
   ]
  },
  {
   "cell_type": "code",
   "execution_count": 2,
   "metadata": {
    "id": "IU4JFUYO_vR9"
   },
   "outputs": [
    {
     "data": {
      "text/plain": [
       "\"\\nfrom google.colab import drive\\ndrive.mount('/content/drive',force_remount=True)\\nos.chdir('/content/drive/My Drive/bio')\\n\""
      ]
     },
     "execution_count": 2,
     "metadata": {},
     "output_type": "execute_result"
    }
   ],
   "source": [
    "\"\"\"\n",
    "from google.colab import drive\n",
    "drive.mount('/content/drive',force_remount=True)\n",
    "os.chdir('/content/drive/My Drive/bio')\n",
    "\"\"\""
   ]
  },
  {
   "cell_type": "code",
   "execution_count": 3,
   "metadata": {
    "id": "-o4oHHi6AaqN"
   },
   "outputs": [],
   "source": [
    "#pwd = os.getcwd() # current path\n",
    "#print (pwd)"
   ]
  },
  {
   "cell_type": "code",
   "execution_count": 6,
   "metadata": {
    "id": "ZrKYrbyBAjd8"
   },
   "outputs": [],
   "source": [
    "path='D:/Waseem/dataset/'"
   ]
  },
  {
   "cell_type": "code",
   "execution_count": 7,
   "metadata": {
    "id": "o0jl0L34AneW"
   },
   "outputs": [
    {
     "data": {
      "text/plain": [
       "['images', 'masks']"
      ]
     },
     "execution_count": 7,
     "metadata": {},
     "output_type": "execute_result"
    }
   ],
   "source": [
    "os.listdir(path)"
   ]
  },
  {
   "cell_type": "code",
   "execution_count": null,
   "metadata": {
    "id": "uXBLsN5TKwj_"
   },
   "outputs": [],
   "source": []
  },
  {
   "cell_type": "code",
   "execution_count": 8,
   "metadata": {
    "id": "yX3A4w1462Vi",
    "scrolled": true
   },
   "outputs": [
    {
     "name": "stdout",
     "output_type": "stream",
     "text": [
      "Staring the Conversion Process\n",
      "In Progress \n",
      "Done!!!!!!!!!!!!!!!!!!!!!\n"
     ]
    }
   ],
   "source": [
    "\n",
    "print(\"Staring the Conversion Process\")\n",
    "\n",
    "#all_img = os.listdir(path)\n",
    "\n",
    "#print('All Images', all_img)\n",
    "\n",
    "new_size = 512\n",
    "\n",
    "images = []\n",
    "masks = []\n",
    "\n",
    "#print('loop info', time)\n",
    "\n",
    "\n",
    "#path_t = path + 'images'\n",
    "#path_m =path+'masks'\n",
    "\n",
    "# print ('Images Name',path_)\n",
    "\n",
    "train_ids = next(os.walk(path_t))[2]\n",
    "mask_ids = next(os.walk(path_m))[2]\n",
    "#print('train_id',train_ids)\n",
    "print(\"In Progress \")\n",
    "for i in range(len(train_ids)):\n",
    "    img_tr = nib.load(path_t + '/' + train_ids[i]).get_fdata()\n",
    "    #print('img_tr',img_tr)\n",
    "    mask_tr = nib.load(path_m + '/' + mask_ids[i]).get_fdata()\n",
    "    #print('mask_tr',mask_tr)\n",
    "\n",
    "\n",
    "\n",
    "    for i in range(img_tr.shape[2]):\n",
    "\n",
    "        init_img = img_tr[:,:,i].astype(np.float32)\n",
    "        init2_img = init_img[:,:]\n",
    "        _img = np.resize(init2_img, (new_size, new_size))\n",
    "        _img2 = np.expand_dims(_img, axis=-1)\n",
    "        images.append(_img2)\n",
    "\n",
    "    for j in range(mask_tr.shape[2]):\n",
    "        init_mask = mask_tr[:,:,j].astype(np.float32)\n",
    "        init2_mask = init_mask[:,:]\n",
    "        _mask = np.resize(init2_mask, (new_size, new_size))\n",
    "        _mask2 = np.expand_dims(_mask, axis=-1)\n",
    "        masks.append(_mask2)\n",
    "\n",
    "\n",
    "images = np.asarray(images)\n",
    "masks = np.asarray(masks)\n",
    "\n",
    "# save the file as npy array\n",
    "np.save('D:/Waseem/dataset/images_npy', images)\n",
    "np.save('D:/Waseem/dataset/masks_npy', masks) \n",
    "\n",
    "\n",
    "print(\"Done!!!!!!!!!!!!!!!!!!!!!\")\n"
   ]
  },
  {
   "cell_type": "code",
   "execution_count": null,
   "metadata": {
    "id": "2avzdm9X2F6d"
   },
   "outputs": [],
   "source": []
  },
  {
   "cell_type": "code",
   "execution_count": 2,
   "metadata": {
    "id": "572cj-vozhlz"
   },
   "outputs": [
    {
     "name": "stdout",
     "output_type": "stream",
     "text": [
      "!!!!!!!!!!!!!!!!!Slice Checker from nifty images!!!!!!!!!!!!!!!!!!!!\n"
     ]
    },
    {
     "ename": "NameError",
     "evalue": "name 'path' is not defined",
     "output_type": "error",
     "traceback": [
      "\u001b[1;31m---------------------------------------------------------------------------\u001b[0m",
      "\u001b[1;31mNameError\u001b[0m                                 Traceback (most recent call last)",
      "\u001b[1;32m<ipython-input-2-63d0064e94b4>\u001b[0m in \u001b[0;36m<module>\u001b[1;34m\u001b[0m\n\u001b[0;32m      1\u001b[0m \u001b[0mprint\u001b[0m\u001b[1;33m(\u001b[0m\u001b[1;34m\"!!!!!!!!!!!!!!!!!Slice Checker from nifty images!!!!!!!!!!!!!!!!!!!!\"\u001b[0m\u001b[1;33m)\u001b[0m\u001b[1;33m\u001b[0m\u001b[1;33m\u001b[0m\u001b[0m\n\u001b[0;32m      2\u001b[0m \u001b[1;33m\u001b[0m\u001b[0m\n\u001b[1;32m----> 3\u001b[1;33m \u001b[0mall_img\u001b[0m \u001b[1;33m=\u001b[0m \u001b[0mos\u001b[0m\u001b[1;33m.\u001b[0m\u001b[0mlistdir\u001b[0m\u001b[1;33m(\u001b[0m\u001b[0mpath\u001b[0m\u001b[1;33m)\u001b[0m\u001b[1;33m\u001b[0m\u001b[1;33m\u001b[0m\u001b[0m\n\u001b[0m\u001b[0;32m      4\u001b[0m \u001b[1;33m\u001b[0m\u001b[0m\n\u001b[0;32m      5\u001b[0m \u001b[1;31m#print('All Images', all_img)\u001b[0m\u001b[1;33m\u001b[0m\u001b[1;33m\u001b[0m\u001b[1;33m\u001b[0m\u001b[0m\n",
      "\u001b[1;31mNameError\u001b[0m: name 'path' is not defined"
     ]
    }
   ],
   "source": [
    "\n",
    "print(\"!!!!!!!!!!!!!!!!!Slice Checker from nifty images!!!!!!!!!!!!!!!!!!!!\")\n",
    "\n",
    "all_img = os.listdir(path)\n",
    "\n",
    "#print('All Images', all_img)\n",
    "\n",
    "\n",
    "images = []\n",
    "masks = []\n",
    "\n",
    "#print('loop info', time)\n",
    "\n",
    "\n",
    "#path_t = path + 'images'\n",
    "#path_m =path+'masks'\n",
    "\n",
    "# print ('Images Name',path_)\n",
    "\n",
    "train_ids = sorted(next(os.walk(path_t))[2])\n",
    "mask_ids = sorted(next(os.walk(path_m))[2])\n",
    "#print('train_id',train_ids)\n",
    "for i in range(len(train_ids)):\n",
    "    img_tr = nib.load(path_t + '/' + train_ids[i]).get_fdata()\n",
    "    mask_tr = nib.load(path_m + '/' + mask_ids[i]).get_fdata()\n",
    "    print(\"Images Slice = Masks Slice of Id R01-00\",i+1,\"=\",img_tr.shape[-1],\"=\",mask_tr.shape[-1])       \n",
    "\n",
    "\n",
    "print(\"Done!!!!!!!!!!!!!!!!!!!!!\")"
   ]
  },
  {
   "cell_type": "code",
   "execution_count": null,
   "metadata": {
    "id": "RfixOccT0jQc"
   },
   "outputs": [],
   "source": []
  },
  {
   "cell_type": "code",
   "execution_count": 21,
   "metadata": {
    "id": "7WaM1fdjEYx-"
   },
   "outputs": [
    {
     "name": "stdout",
     "output_type": "stream",
     "text": [
      "NII to PNG Conversion Process\n",
      "In Progress \n",
      "Done!!!!!!!!!!!!!!!!!!!!!\n"
     ]
    }
   ],
   "source": [
    "print(\"NII to PNG Conversion Process\")\n",
    "\n",
    "#all_img = os.listdir(path)\n",
    "\n",
    "#print('All Images', all_img)\n",
    "\n",
    "new_size = 512\n",
    "\n",
    "images = []\n",
    "masks = []\n",
    "\n",
    "#print('loop info', time)\n",
    "out_t=path+'/png/images/'\n",
    "out_m=path+'/png/masks/'\n",
    "\n",
    "#path_t = path + 'images'\n",
    "#path_m =path+'masks'\n",
    "\n",
    "# print ('Images Name',path_)\n",
    "\n",
    "train_ids = next(os.walk(path_t))[2]\n",
    "mask_ids = next(os.walk(path_m))[2]\n",
    "#print('train_id',train_ids)\n",
    "print(\"In Progress \")\n",
    "for i in range(len(train_ids)):\n",
    "    img_tr = nib.load(path_t + '/' + train_ids[i]).get_fdata()\n",
    "    #print('img_tr',img_tr)\n",
    "    mask_tr = nib.load(path_m + '/' + mask_ids[i]).get_fdata()\n",
    "    #print('mask_tr',mask_tr)\n",
    "\n",
    "\n",
    "\n",
    "    for j in range(img_tr.shape[2]):\n",
    "\n",
    "        init_img = img_tr[:,:,j].astype(np.float64)\n",
    "        init2_img = init_img[:,:]\n",
    "        _img = np.resize(init2_img, (new_size, new_size))\n",
    "        _img2 = np.expand_dims(_img, axis=-1)\n",
    "        save = out_t+\"R01-\"+str(i)+'_'+str(j)+\".png\"\n",
    "        cv2.imwrite(save,_img2)\n",
    "\n",
    "\n",
    "    #for j in range(mask_tr.shape[2]):\n",
    "        init_mask = mask_tr[:,:,j].astype(np.float64)\n",
    "        init2_mask = init_mask[:,:]\n",
    "        _mask = np.resize(init2_mask, (new_size, new_size))\n",
    "        _mask2 = np.expand_dims(_mask, axis=-1)\n",
    "        save = out_m+\"R01-\"+str(i)+'_'+str(j)+\".png\" \n",
    "        cv2.imwrite(save,_mask2)\n",
    "\n",
    "\n",
    "\n",
    "print(\"Done!!!!!!!!!!!!!!!!!!!!!\")"
   ]
  },
  {
   "cell_type": "code",
   "execution_count": 24,
   "metadata": {
    "id": "p7JAIxKAzseG"
   },
   "outputs": [
    {
     "data": {
      "text/plain": [
       "'D:/Waseem/radiogenomics/dataset/png/images'"
      ]
     },
     "execution_count": 24,
     "metadata": {},
     "output_type": "execute_result"
    }
   ],
   "source": []
  },
  {
   "cell_type": "code",
   "execution_count": 23,
   "metadata": {},
   "outputs": [
    {
     "data": {
      "text/plain": [
       "'D:/Waseem/radiogenomics/dataset/png/images[[[-2048. -2048. -2048. ... -2048. -2048. -2048.]\\n  [-2048. -2048. -2048. ... -2048. -2048. -2048.]\\n  [-2048. -2048. -2048. ... -2048. -2048. -2048.]\\n  ...\\n  [-2048. -2048. -2048. ... -2048. -2048. -2048.]\\n  [-2048. -2048. -2048. ... -2048. -2048. -2048.]\\n  [-2048. -2048. -2048. ... -2048. -2048. -2048.]]\\n\\n [[-2048. -2048. -2048. ... -2048. -2048. -2048.]\\n  [-2048. -2048. -2048. ... -2048. -2048. -2048.]\\n  [-2048. -2048. -2048. ... -2048. -2048. -2048.]\\n  ...\\n  [-2048. -2048. -2048. ... -2048. -2048. -2048.]\\n  [-2048. -2048. -2048. ... -2048. -2048. -2048.]\\n  [-2048. -2048. -2048. ... -2048. -2048. -2048.]]\\n\\n [[-2048. -2048. -2048. ... -2048. -2048. -2048.]\\n  [-2048. -2048. -2048. ... -2048. -2048. -2048.]\\n  [-2048. -2048. -2048. ... -2048. -2048. -2048.]\\n  ...\\n  [-2048. -2048. -2048. ... -2048. -2048. -2048.]\\n  [-2048. -2048. -2048. ... -2048. -2048. -2048.]\\n  [-2048. -2048. -2048. ... -2048. -2048. -2048.]]\\n\\n ...\\n\\n [[-2048. -2048. -2048. ... -2048. -2048. -2048.]\\n  [-2048. -2048. -2048. ... -2048. -2048. -2048.]\\n  [-2048. -2048. -2048. ... -2048. -2048. -2048.]\\n  ...\\n  [-2048. -2048. -2048. ... -2048. -2048. -2048.]\\n  [-2048. -2048. -2048. ... -2048. -2048. -2048.]\\n  [-2048. -2048. -2048. ... -2048. -2048. -2048.]]\\n\\n [[-2048. -2048. -2048. ... -2048. -2048. -2048.]\\n  [-2048. -2048. -2048. ... -2048. -2048. -2048.]\\n  [-2048. -2048. -2048. ... -2048. -2048. -2048.]\\n  ...\\n  [-2048. -2048. -2048. ... -2048. -2048. -2048.]\\n  [-2048. -2048. -2048. ... -2048. -2048. -2048.]\\n  [-2048. -2048. -2048. ... -2048. -2048. -2048.]]\\n\\n [[-2048. -2048. -2048. ... -2048. -2048. -2048.]\\n  [-2048. -2048. -2048. ... -2048. -2048. -2048.]\\n  [-2048. -2048. -2048. ... -2048. -2048. -2048.]\\n  ...\\n  [-2048. -2048. -2048. ... -2048. -2048. -2048.]\\n  [-2048. -2048. -2048. ... -2048. -2048. -2048.]\\n  [-2048. -2048. -2048. ... -2048. -2048. -2048.]]]139.png'"
      ]
     },
     "execution_count": 23,
     "metadata": {},
     "output_type": "execute_result"
    }
   ],
   "source": []
  },
  {
   "cell_type": "code",
   "execution_count": null,
   "metadata": {},
   "outputs": [],
   "source": []
  },
  {
   "cell_type": "code",
   "execution_count": null,
   "metadata": {},
   "outputs": [],
   "source": []
  },
  {
   "cell_type": "code",
   "execution_count": null,
   "metadata": {},
   "outputs": [],
   "source": []
  },
  {
   "cell_type": "code",
   "execution_count": null,
   "metadata": {},
   "outputs": [],
   "source": []
  },
  {
   "cell_type": "code",
   "execution_count": null,
   "metadata": {},
   "outputs": [],
   "source": []
  },
  {
   "cell_type": "code",
   "execution_count": null,
   "metadata": {},
   "outputs": [],
   "source": []
  },
  {
   "cell_type": "code",
   "execution_count": null,
   "metadata": {},
   "outputs": [],
   "source": []
  },
  {
   "cell_type": "code",
   "execution_count": null,
   "metadata": {},
   "outputs": [],
   "source": []
  },
  {
   "cell_type": "code",
   "execution_count": null,
   "metadata": {},
   "outputs": [],
   "source": []
  },
  {
   "cell_type": "code",
   "execution_count": null,
   "metadata": {},
   "outputs": [],
   "source": []
  },
  {
   "cell_type": "code",
   "execution_count": null,
   "metadata": {},
   "outputs": [],
   "source": []
  },
  {
   "cell_type": "code",
   "execution_count": null,
   "metadata": {},
   "outputs": [],
   "source": []
  },
  {
   "cell_type": "code",
   "execution_count": null,
   "metadata": {},
   "outputs": [],
   "source": []
  },
  {
   "cell_type": "code",
   "execution_count": null,
   "metadata": {},
   "outputs": [],
   "source": []
  },
  {
   "cell_type": "code",
   "execution_count": null,
   "metadata": {},
   "outputs": [],
   "source": []
  },
  {
   "cell_type": "code",
   "execution_count": null,
   "metadata": {},
   "outputs": [],
   "source": []
  },
  {
   "cell_type": "code",
   "execution_count": null,
   "metadata": {},
   "outputs": [],
   "source": [
    "\n",
    "\n",
    "\n",
    "\n",
    "\n",
    "\n"
   ]
  },
  {
   "cell_type": "code",
   "execution_count": null,
   "metadata": {},
   "outputs": [],
   "source": []
  },
  {
   "cell_type": "code",
   "execution_count": null,
   "metadata": {},
   "outputs": [],
   "source": []
  }
 ],
 "metadata": {
  "colab": {
   "authorship_tag": "ABX9TyPBvGZKdVMyikgvj9CD0Zvg",
   "collapsed_sections": [],
   "name": "3dto2d.ipynb",
   "private_outputs": true,
   "provenance": []
  },
  "kernelspec": {
   "display_name": "Python 3",
   "language": "python",
   "name": "python3"
  },
  "language_info": {
   "codemirror_mode": {
    "name": "ipython",
    "version": 3
   },
   "file_extension": ".py",
   "mimetype": "text/x-python",
   "name": "python",
   "nbconvert_exporter": "python",
   "pygments_lexer": "ipython3",
   "version": "3.7.10"
  }
 },
 "nbformat": 4,
 "nbformat_minor": 1
}
